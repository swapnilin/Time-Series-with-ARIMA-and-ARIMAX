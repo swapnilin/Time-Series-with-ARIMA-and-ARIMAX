{
  "cells": [
    {
      "cell_type": "markdown",
      "metadata": {
        "id": "uek2dBkRXwLM"
      },
      "source": [
        "# **Time Series Forecasting with ARIMA Model**"
      ]
    },
    {
      "cell_type": "markdown",
      "metadata": {
        "id": "2BdHiYEuV2yV"
      },
      "source": [
        "ARIMA - Auto Regressive Integrated Moving Average\n",
        "\n",
        "An ARIMA model is characterized by 3 terms: p, d, q\n",
        "<br><br>\n",
        "* **AR (p) Autoregression:** An auto regressive AR(p) term refers to the number of lags of Y to be used as predictors. In other words, the number of terms that are used from the past values in the time series for forecasting the future values. It's the part of the model that captures the relationship between a current observation and its predecessors. A high *p* value can indicate a strong influence of past values on current values.\n",
        "<br><br>\n",
        "* **I (d) Integration:** This parameter indicates the number of times the original time series data should be differenced to make it stationary. Stationarity is a critical aspect of time series analysis where the statistical properties of the series (mean, variance) do not change over time. Differencing is a method of transforming a non-stationary time series into a stationary one by subtracting the previous observation from the current observation. The *d* value helps in removing trends and seasonal structures from the time series, making it easier to model.\n",
        "<br><br>\n",
        "* **MA (q) Moving Average:**  ‘q’ is the order of the ‘Moving Average’ (MA) term. 'q' refers to the number of past errors (residuals) that are used to improve forecasts. The MA component models the relationship between an observation and a residual error from a moving average model applied to lagged observations. In simpler terms, it accounts for the influence of past prediction errors on the current observation. The errors referred to here are the differences between the actual values and the predictions that a simple moving average model would have made. The choice of *q* has a direct impact on how the ARIMA model predicts future values by considering how past errors influence current predictions. It helps in capturing the autocorrelation in the residuals of the series that is not explained by the autoregressive (AR) part.\n",
        "<br><br>\n",
        "\n",
        "### Model Types:\n",
        "\n",
        "**ARIMA** - Non-seasonal auto regressive integrated moving average\n",
        "\n",
        "<span style=\"color:crimson\">**ARIMAX** - ARIMA with exogenous variable</span>\n",
        "\n",
        "**SARIMA** - Seasonal ARIMA\n",
        "\n",
        "**SARIMAX** - Seasonal ARIMA with exogenous variable"
      ]
    },
    {
      "cell_type": "code",
      "source": [],
      "metadata": {
        "id": "-5X3JNP8nldC"
      },
      "execution_count": null,
      "outputs": []
    },
    {
      "cell_type": "code",
      "execution_count": null,
      "metadata": {
        "id": "C5Geg2wxV2yY"
      },
      "outputs": [],
      "source": [
        "# import necessary libraries\n",
        "import pandas as pd\n",
        "import numpy as np\n",
        "import seaborn as sns\n",
        "import matplotlib.pyplot as plt\n",
        "\n",
        "import warnings\n",
        "warnings.filterwarnings('ignore')\n"
      ]
    },
    {
      "cell_type": "markdown",
      "metadata": {
        "id": "6YUxwbZaV2yZ"
      },
      "source": [
        "    "
      ]
    },
    {
      "cell_type": "code",
      "execution_count": null,
      "metadata": {
        "colab": {
          "base_uri": "https://localhost:8080/"
        },
        "id": "XYpTGxQeV2ya",
        "outputId": "535e2202-8453-45d2-a97f-6d3bcd79876f"
      },
      "outputs": [
        {
          "name": "stdout",
          "output_type": "stream",
          "text": [
            "Date     object\n",
            "AAPL    float64\n",
            "TXN     float64\n",
            "dtype: object\n"
          ]
        }
      ],
      "source": [
        "# load the dataset.\n",
        "# This dataset contains the stock price for 'Apple' and the stock price for 'TXN'\n",
        "data = pd.read_csv('AAPL.csv')\n",
        "print(data.dtypes)"
      ]
    },
    {
      "cell_type": "markdown",
      "metadata": {
        "id": "5nDLl0KCV2yb"
      },
      "source": [
        "The column `Date` is an 'object'. We need to change it to `datetime` data type."
      ]
    },
    {
      "cell_type": "code",
      "execution_count": null,
      "metadata": {
        "id": "Em9kz1i3nC6o"
      },
      "outputs": [],
      "source": [
        "# convert 'Date' to datetime type\n",
        "data['Date'] = pd.to_datetime(data['Date'])\n"
      ]
    },
    {
      "cell_type": "code",
      "execution_count": null,
      "metadata": {
        "colab": {
          "base_uri": "https://localhost:8080/"
        },
        "id": "6g1mBBB8nItp",
        "outputId": "cb8eadd4-0e4a-4a81-f3cd-884178446de4"
      },
      "outputs": [
        {
          "name": "stdout",
          "output_type": "stream",
          "text": [
            "Date    datetime64[ns]\n",
            "AAPL           float64\n",
            "TXN            float64\n",
            "dtype: object\n"
          ]
        }
      ],
      "source": [
        "# check the datatype\n",
        "print(data.dtypes)"
      ]
    },
    {
      "cell_type": "code",
      "execution_count": null,
      "metadata": {
        "id": "l8DAVhtTnAkc",
        "outputId": "68fccf45-ee8f-4a03-a1a7-d0dbfcb24a6a"
      },
      "outputs": [
        {
          "data": {
            "text/html": [
              "<div>\n",
              "<style scoped>\n",
              "    .dataframe tbody tr th:only-of-type {\n",
              "        vertical-align: middle;\n",
              "    }\n",
              "\n",
              "    .dataframe tbody tr th {\n",
              "        vertical-align: top;\n",
              "    }\n",
              "\n",
              "    .dataframe thead th {\n",
              "        text-align: right;\n",
              "    }\n",
              "</style>\n",
              "<table border=\"1\" class=\"dataframe\">\n",
              "  <thead>\n",
              "    <tr style=\"text-align: right;\">\n",
              "      <th></th>\n",
              "      <th>Date</th>\n",
              "      <th>AAPL</th>\n",
              "      <th>TXN</th>\n",
              "    </tr>\n",
              "  </thead>\n",
              "  <tbody>\n",
              "    <tr>\n",
              "      <th>0</th>\n",
              "      <td>2022-01-01</td>\n",
              "      <td>174.780000</td>\n",
              "      <td>177.210000</td>\n",
              "    </tr>\n",
              "    <tr>\n",
              "      <th>1</th>\n",
              "      <td>2022-02-01</td>\n",
              "      <td>165.119995</td>\n",
              "      <td>169.990005</td>\n",
              "    </tr>\n",
              "    <tr>\n",
              "      <th>2</th>\n",
              "      <td>2022-03-01</td>\n",
              "      <td>174.610001</td>\n",
              "      <td>183.479996</td>\n",
              "    </tr>\n",
              "    <tr>\n",
              "      <th>3</th>\n",
              "      <td>2022-04-01</td>\n",
              "      <td>157.649994</td>\n",
              "      <td>170.250000</td>\n",
              "    </tr>\n",
              "    <tr>\n",
              "      <th>4</th>\n",
              "      <td>2022-05-01</td>\n",
              "      <td>148.839996</td>\n",
              "      <td>176.759995</td>\n",
              "    </tr>\n",
              "    <tr>\n",
              "      <th>5</th>\n",
              "      <td>2022-06-01</td>\n",
              "      <td>136.720001</td>\n",
              "      <td>153.649994</td>\n",
              "    </tr>\n",
              "    <tr>\n",
              "      <th>6</th>\n",
              "      <td>2022-07-01</td>\n",
              "      <td>162.509995</td>\n",
              "      <td>178.889999</td>\n",
              "    </tr>\n",
              "    <tr>\n",
              "      <th>7</th>\n",
              "      <td>2022-08-01</td>\n",
              "      <td>157.220001</td>\n",
              "      <td>165.210007</td>\n",
              "    </tr>\n",
              "    <tr>\n",
              "      <th>8</th>\n",
              "      <td>2022-09-01</td>\n",
              "      <td>138.199997</td>\n",
              "      <td>154.779999</td>\n",
              "    </tr>\n",
              "    <tr>\n",
              "      <th>9</th>\n",
              "      <td>2022-10-01</td>\n",
              "      <td>153.339996</td>\n",
              "      <td>160.630005</td>\n",
              "    </tr>\n",
              "    <tr>\n",
              "      <th>10</th>\n",
              "      <td>2022-11-01</td>\n",
              "      <td>148.029999</td>\n",
              "      <td>180.460007</td>\n",
              "    </tr>\n",
              "    <tr>\n",
              "      <th>11</th>\n",
              "      <td>2022-12-01</td>\n",
              "      <td>129.929993</td>\n",
              "      <td>165.220001</td>\n",
              "    </tr>\n",
              "    <tr>\n",
              "      <th>12</th>\n",
              "      <td>2023-01-01</td>\n",
              "      <td>144.289993</td>\n",
              "      <td>177.210007</td>\n",
              "    </tr>\n",
              "    <tr>\n",
              "      <th>13</th>\n",
              "      <td>2023-02-01</td>\n",
              "      <td>147.410004</td>\n",
              "      <td>171.449997</td>\n",
              "    </tr>\n",
              "    <tr>\n",
              "      <th>14</th>\n",
              "      <td>2023-03-01</td>\n",
              "      <td>164.899994</td>\n",
              "      <td>186.009995</td>\n",
              "    </tr>\n",
              "    <tr>\n",
              "      <th>15</th>\n",
              "      <td>2023-04-01</td>\n",
              "      <td>169.679993</td>\n",
              "      <td>167.199997</td>\n",
              "    </tr>\n",
              "    <tr>\n",
              "      <th>16</th>\n",
              "      <td>2023-05-01</td>\n",
              "      <td>177.250000</td>\n",
              "      <td>173.880005</td>\n",
              "    </tr>\n",
              "    <tr>\n",
              "      <th>17</th>\n",
              "      <td>2023-06-01</td>\n",
              "      <td>193.970001</td>\n",
              "      <td>180.020004</td>\n",
              "    </tr>\n",
              "    <tr>\n",
              "      <th>18</th>\n",
              "      <td>2023-07-01</td>\n",
              "      <td>196.449997</td>\n",
              "      <td>180.000000</td>\n",
              "    </tr>\n",
              "    <tr>\n",
              "      <th>19</th>\n",
              "      <td>2023-08-01</td>\n",
              "      <td>187.869995</td>\n",
              "      <td>168.059998</td>\n",
              "    </tr>\n",
              "    <tr>\n",
              "      <th>20</th>\n",
              "      <td>2023-09-01</td>\n",
              "      <td>171.210007</td>\n",
              "      <td>159.009995</td>\n",
              "    </tr>\n",
              "    <tr>\n",
              "      <th>21</th>\n",
              "      <td>2023-10-01</td>\n",
              "      <td>170.770004</td>\n",
              "      <td>142.009995</td>\n",
              "    </tr>\n",
              "    <tr>\n",
              "      <th>22</th>\n",
              "      <td>2023-11-01</td>\n",
              "      <td>189.949997</td>\n",
              "      <td>152.710007</td>\n",
              "    </tr>\n",
              "    <tr>\n",
              "      <th>23</th>\n",
              "      <td>2023-12-01</td>\n",
              "      <td>192.529999</td>\n",
              "      <td>170.460007</td>\n",
              "    </tr>\n",
              "    <tr>\n",
              "      <th>24</th>\n",
              "      <td>2024-01-01</td>\n",
              "      <td>NaN</td>\n",
              "      <td>160.119995</td>\n",
              "    </tr>\n",
              "    <tr>\n",
              "      <th>25</th>\n",
              "      <td>2024-02-01</td>\n",
              "      <td>NaN</td>\n",
              "      <td>156.850006</td>\n",
              "    </tr>\n",
              "  </tbody>\n",
              "</table>\n",
              "</div>"
            ],
            "text/plain": [
              "         Date        AAPL         TXN\n",
              "0  2022-01-01  174.780000  177.210000\n",
              "1  2022-02-01  165.119995  169.990005\n",
              "2  2022-03-01  174.610001  183.479996\n",
              "3  2022-04-01  157.649994  170.250000\n",
              "4  2022-05-01  148.839996  176.759995\n",
              "5  2022-06-01  136.720001  153.649994\n",
              "6  2022-07-01  162.509995  178.889999\n",
              "7  2022-08-01  157.220001  165.210007\n",
              "8  2022-09-01  138.199997  154.779999\n",
              "9  2022-10-01  153.339996  160.630005\n",
              "10 2022-11-01  148.029999  180.460007\n",
              "11 2022-12-01  129.929993  165.220001\n",
              "12 2023-01-01  144.289993  177.210007\n",
              "13 2023-02-01  147.410004  171.449997\n",
              "14 2023-03-01  164.899994  186.009995\n",
              "15 2023-04-01  169.679993  167.199997\n",
              "16 2023-05-01  177.250000  173.880005\n",
              "17 2023-06-01  193.970001  180.020004\n",
              "18 2023-07-01  196.449997  180.000000\n",
              "19 2023-08-01  187.869995  168.059998\n",
              "20 2023-09-01  171.210007  159.009995\n",
              "21 2023-10-01  170.770004  142.009995\n",
              "22 2023-11-01  189.949997  152.710007\n",
              "23 2023-12-01  192.529999  170.460007\n",
              "24 2024-01-01         NaN  160.119995\n",
              "25 2024-02-01         NaN  156.850006"
            ]
          },
          "execution_count": 10,
          "metadata": {},
          "output_type": "execute_result"
        }
      ],
      "source": [
        "data"
      ]
    },
    {
      "cell_type": "markdown",
      "metadata": {
        "id": "R236pEyvnAkd"
      },
      "source": [
        "**AAPL** - Ticker symbol for Apple Inc. and it is traded on the NASDAQ stock exchange.<br>\n",
        "**TXN** - Ticker symbol for Texas Instruments (TXN): Major supplier for Apple known to supply Apple with several critical components used in Apple's products. One of the main components supplied by Texas Instruments to Apple is semiconductor chips, particularly for power management. These chips are crucial for managing battery life and power consumption in Apple's devices such as iPhones, iPads, and MacBooks."
      ]
    },
    {
      "cell_type": "markdown",
      "metadata": {
        "id": "V36FfX8PfPlY"
      },
      "source": [
        "# Univariate - Using only one variable"
      ]
    },
    {
      "cell_type": "code",
      "execution_count": null,
      "metadata": {
        "id": "l3tJZ0gKV2yc"
      },
      "outputs": [],
      "source": [
        "# Univariate analysis - We will only use 'Apple' variable.\n",
        "df = data.iloc[:-2,0:2]"
      ]
    },
    {
      "cell_type": "code",
      "execution_count": null,
      "metadata": {
        "colab": {
          "base_uri": "https://localhost:8080/",
          "height": 206
        },
        "id": "TCM4F78iV2yc",
        "outputId": "ba8f6de0-0673-483d-cf8e-3b91b1b6d5bf"
      },
      "outputs": [
        {
          "data": {
            "text/html": [
              "<div>\n",
              "<style scoped>\n",
              "    .dataframe tbody tr th:only-of-type {\n",
              "        vertical-align: middle;\n",
              "    }\n",
              "\n",
              "    .dataframe tbody tr th {\n",
              "        vertical-align: top;\n",
              "    }\n",
              "\n",
              "    .dataframe thead th {\n",
              "        text-align: right;\n",
              "    }\n",
              "</style>\n",
              "<table border=\"1\" class=\"dataframe\">\n",
              "  <thead>\n",
              "    <tr style=\"text-align: right;\">\n",
              "      <th></th>\n",
              "      <th>Date</th>\n",
              "      <th>AAPL</th>\n",
              "    </tr>\n",
              "  </thead>\n",
              "  <tbody>\n",
              "    <tr>\n",
              "      <th>19</th>\n",
              "      <td>2023-08-01</td>\n",
              "      <td>187.869995</td>\n",
              "    </tr>\n",
              "    <tr>\n",
              "      <th>20</th>\n",
              "      <td>2023-09-01</td>\n",
              "      <td>171.210007</td>\n",
              "    </tr>\n",
              "    <tr>\n",
              "      <th>21</th>\n",
              "      <td>2023-10-01</td>\n",
              "      <td>170.770004</td>\n",
              "    </tr>\n",
              "    <tr>\n",
              "      <th>22</th>\n",
              "      <td>2023-11-01</td>\n",
              "      <td>189.949997</td>\n",
              "    </tr>\n",
              "    <tr>\n",
              "      <th>23</th>\n",
              "      <td>2023-12-01</td>\n",
              "      <td>192.529999</td>\n",
              "    </tr>\n",
              "  </tbody>\n",
              "</table>\n",
              "</div>"
            ],
            "text/plain": [
              "         Date        AAPL\n",
              "19 2023-08-01  187.869995\n",
              "20 2023-09-01  171.210007\n",
              "21 2023-10-01  170.770004\n",
              "22 2023-11-01  189.949997\n",
              "23 2023-12-01  192.529999"
            ]
          },
          "execution_count": 12,
          "metadata": {},
          "output_type": "execute_result"
        }
      ],
      "source": [
        "# check the data\n",
        "df.tail()"
      ]
    },
    {
      "cell_type": "code",
      "execution_count": null,
      "metadata": {
        "id": "BUfxSwcfV2yc"
      },
      "outputs": [],
      "source": [
        "# set the 'Date' column as index\n",
        "df = df.set_index('Date')"
      ]
    },
    {
      "cell_type": "code",
      "execution_count": null,
      "metadata": {
        "id": "uyehXz0YnAke",
        "outputId": "cab62952-8157-47c3-d674-a9cd6d3c6bb3"
      },
      "outputs": [
        {
          "data": {
            "text/plain": [
              "[Text(18993.0, 0, '2022-01'),\n",
              " Text(19083.0, 0, '2022-04'),\n",
              " Text(19174.0, 0, '2022-07'),\n",
              " Text(19266.0, 0, '2022-10'),\n",
              " Text(19358.0, 0, '2023-01'),\n",
              " Text(19448.0, 0, '2023-04'),\n",
              " Text(19539.0, 0, '2023-07'),\n",
              " Text(19631.0, 0, '2023-10'),\n",
              " Text(19723.0, 0, '2024-01')]"
            ]
          },
          "execution_count": 14,
          "metadata": {},
          "output_type": "execute_result"
        },
        {
          "data": {
            "image/png": "[encoded data removed]",
            "text/plain": [
              "<Figure size 640x480 with 1 Axes>"
            ]
          },
          "metadata": {},
          "output_type": "display_data"
        }
      ],
      "source": [
        "#create seaborn lineplot\n",
        "plot = sns.lineplot(df['AAPL'])\n",
        "\n",
        "#rotate x-axis labels\n",
        "plot.set_xticklabels(plot.get_xticklabels(), rotation=90)\n"
      ]
    },
    {
      "cell_type": "markdown",
      "metadata": {
        "id": "4aqogGMRV2ye"
      },
      "source": [
        "### Decomposition"
      ]
    },
    {
      "cell_type": "code",
      "execution_count": null,
      "metadata": {
        "id": "y20Rc7FLV2ye"
      },
      "outputs": [],
      "source": [
        "# Extract and plot trend, seasonal and residuals.\n",
        "from statsmodels.tsa.seasonal import seasonal_decompose\n",
        "decomposed = seasonal_decompose(df['AAPL'])"
      ]
    },
    {
      "cell_type": "code",
      "execution_count": null,
      "metadata": {
        "id": "G7yi-V1OV2ye"
      },
      "outputs": [],
      "source": [
        "trend = decomposed.trend\n",
        "seasonal = decomposed.seasonal\n",
        "residual = decomposed.resid"
      ]
    },
    {
      "cell_type": "code",
      "execution_count": null,
      "metadata": {
        "colab": {
          "base_uri": "https://localhost:8080/",
          "height": 483
        },
        "id": "jnaziVeQV2yf",
        "outputId": "5d98b35e-ea2f-41db-a377-292435f7ddd9",
        "scrolled": true
      },
      "outputs": [
        {
          "data": {
            "image/png": "[encoded data removed]",
            "text/plain": [
              "<Figure size 1200x800 with 4 Axes>"
            ]
          },
          "metadata": {},
          "output_type": "display_data"
        }
      ],
      "source": [
        "plt.figure(figsize=(12,8))\n",
        "plt.subplot(411)\n",
        "plt.plot(df['AAPL'], label='Original', color='black')\n",
        "plt.legend(loc='upper left')\n",
        "plt.subplot(412)\n",
        "plt.plot(trend, label='Trend', color='red')\n",
        "plt.legend(loc='upper left')\n",
        "plt.subplot(413)\n",
        "plt.plot(seasonal, label='Seasonal', color='blue')\n",
        "plt.legend(loc='upper left')\n",
        "plt.subplot(414)\n",
        "plt.plot(residual, label='Residual', color='black')\n",
        "plt.legend(loc='upper left')\n",
        "plt.show()"
      ]
    },
    {
      "cell_type": "markdown",
      "metadata": {
        "id": "a0F3p_CbV2yf"
      },
      "source": [
        "    "
      ]
    },
    {
      "cell_type": "markdown",
      "metadata": {
        "id": "cbooBL45nAkg"
      },
      "source": [
        "If the **residual plot** is a straight line at a non-zero value (in this case, 2), it indicates the presence of some systematic bias or pattern in the residuals, which means the model is not accounting for all the information in the data. This could be due to various reasons such as missing variables, incorrect model selection, or a non-linear relationship between the variables."
      ]
    },
    {
      "cell_type": "markdown",
      "metadata": {
        "id": "N2rb8i9anAkg"
      },
      "source": [
        "    "
      ]
    },
    {
      "cell_type": "markdown",
      "metadata": {
        "id": "Pbm8apDvnAkg"
      },
      "source": [
        "<https://alkaline-ml.com/pmdarima/modules/generated/pmdarima.arima.ARIMA.html>"
      ]
    },
    {
      "cell_type": "markdown",
      "metadata": {
        "id": "1upntVuMe1Pn"
      },
      "source": [
        "## **Find p, d, q**"
      ]
    },
    {
      "cell_type": "markdown",
      "metadata": {
        "id": "Zxw8cH3GV2yi"
      },
      "source": [
        "### To find p and q use ACF and PACF plots from statsmodels library"
      ]
    },
    {
      "cell_type": "code",
      "execution_count": null,
      "metadata": {
        "colab": {
          "base_uri": "https://localhost:8080/",
          "height": 656
        },
        "id": "bYdNEmiVV2yi",
        "outputId": "1605587e-aa94-423b-94e5-f9ed75f9693a",
        "scrolled": true
      },
      "outputs": [
        {
          "data": {
            "image/png": "[encoded data removed]",
            "text/plain": [
              "<Figure size 560x320 with 1 Axes>"
            ]
          },
          "metadata": {
            "needs_background": "light"
          },
          "output_type": "display_data"
        },
        {
          "data": {
            "image/png": "[encoded data removed]",
            "text/plain": [
              "<Figure size 560x320 with 1 Axes>"
            ]
          },
          "metadata": {
            "needs_background": "light"
          },
          "output_type": "display_data"
        }
      ],
      "source": [
        "# for finding p,q using PACF and ACF plots respectively\n",
        "from statsmodels.graphics.tsaplots import plot_acf, plot_pacf\n",
        "plt.rcParams.update({'figure.figsize':(7,4), 'figure.dpi':80})\n",
        "\n",
        "# plot ACF\n",
        "plot_acf(df['AAPL'].dropna());\n",
        "\n",
        "# plot PACF\n",
        "plot_pacf(df['AAPL'].dropna(), lags=11);\n",
        "\n",
        "plt.show()"
      ]
    },
    {
      "cell_type": "markdown",
      "metadata": {
        "id": "eGw35O3WV2yj"
      },
      "source": [
        "    "
      ]
    },
    {
      "cell_type": "markdown",
      "metadata": {
        "id": "0A3SQwFfV2yj"
      },
      "source": [
        "**q** is given by the ACF plot, where you count the number of spikes outside of the confidence interval (blue area). The first one which is 0, is the current value which will always be correlated to itself i.e. value is 1. In this case we only 1 spike outside the confidence interval. Therefore, `q = 1`\n",
        "\n",
        "\n",
        "**p** is given by the PACF plot, where you count the number of spikes outside of the confidence interval (blue area). The first one which is 0, is the current value which will always be correlated to itself i.e. value is 1. In this case we only have 1 spike outside the confidence interval. Therefore, `p = 1`\n",
        "That spike value in pacf (i.e. 0.76 are the coeficient values (beta1, beta2, etc.) in the linear regression equation)\n",
        "\n",
        "We can use `q = 1` and `p = 1`"
      ]
    },
    {
      "cell_type": "markdown",
      "metadata": {
        "id": "5j1sWnGAnAkh"
      },
      "source": [
        "    "
      ]
    },
    {
      "cell_type": "markdown",
      "metadata": {
        "id": "D_xzM65znAkh"
      },
      "source": [
        "The key difference between the **Partial Autocorrelation Function (PACF)** and the **Autocorrelation Function (ACF)** is that the **PACF** measures the relationship between a time series and its lagged values after removing the effects of the intervening lags, while the **ACF** measures the relationship between a time series and its lagged values without removing the effects of the intervening lags.\n",
        "\n",
        "For example, let's say we have a time series of monthly sales data for a store. If we are considering the correlation between sales in January and sales in March, then February is the intervening lag. The effect of the February sales on the correlation between January and March sales is accounted for when we use the PACF, as it controls for the effect of the intervening lags."
      ]
    },
    {
      "cell_type": "markdown",
      "metadata": {
        "id": "9TRpTjVPV2yj"
      },
      "source": [
        "    "
      ]
    },
    {
      "cell_type": "markdown",
      "metadata": {
        "id": "UjhgfYfEV2yk"
      },
      "source": [
        "### To find d, we have to first check if the series is stationary"
      ]
    },
    {
      "cell_type": "markdown",
      "metadata": {
        "id": "dPd_sX9-V2yk"
      },
      "source": [
        "\n",
        "\n",
        "The first step to build an ARIMA model is to make the time series stationary.\n",
        "\n",
        "Because, term ‘Auto Regressive’ in ARIMA means it is a linear regression model that uses its own lags as predictors. Linear regression models, work best when the predictors are not correlated and are independent of each other.\n",
        "\n",
        "To make a series stationary, the most common approach is to difference (d) it. The value of `d`, therefore, is the minimum number of differencing needed to make the series stationary. And if the time series is already stationary, then d = 0."
      ]
    },
    {
      "cell_type": "code",
      "execution_count": null,
      "metadata": {
        "id": "EcWDI0tmV2yl"
      },
      "outputs": [],
      "source": [
        "# Augmented Dickey-Fuller (ADF) test to check if the data is stationary. We already know it is not by looking at the chart above.\n",
        "from statsmodels.tsa.stattools import adfuller"
      ]
    },
    {
      "cell_type": "code",
      "execution_count": null,
      "metadata": {
        "colab": {
          "base_uri": "https://localhost:8080/"
        },
        "id": "MPRQ6R_NV2yl",
        "outputId": "c22b1fff-94bd-480a-d095-5a004b2008f7"
      },
      "outputs": [
        {
          "name": "stdout",
          "output_type": "stream",
          "text": [
            "p-value: 0.5757695819593222\n"
          ]
        }
      ],
      "source": [
        "# if p value < 0.05 the series is stationary\n",
        "results = adfuller(df['AAPL'])\n",
        "print('p-value:', results[1]) # adf, pvalue, usedlag_, nobs_, critical_values_, icbest_"
      ]
    },
    {
      "cell_type": "markdown",
      "metadata": {
        "id": "bAlmvKL-V2ym"
      },
      "source": [
        "    "
      ]
    },
    {
      "cell_type": "markdown",
      "metadata": {
        "id": "CqLB3EEDV2ym"
      },
      "source": [
        "STEPS:\n",
        "* First check the p-value. If p-value is <0.05, your series is stationary.\n",
        "* If not, do a first order differencing\n",
        "* Perform the ADF test on the differenced series to check the p-value\n",
        "* If p-value is <0.05, your series is stationary\n",
        "* If not, do a second order differencing.\n",
        "* Whatever order of differencing you do, that will be your value of 'd' in ARIMA model\n",
        "\n",
        "p-value is 0.99. Therefore, the series is **not stationary**. Therefore, we will need to make it stationary."
      ]
    },
    {
      "cell_type": "markdown",
      "metadata": {
        "id": "GM7yOOApiQBh"
      },
      "source": [
        "### Differencing - To make series stationary"
      ]
    },
    {
      "cell_type": "code",
      "execution_count": null,
      "metadata": {
        "colab": {
          "base_uri": "https://localhost:8080/"
        },
        "id": "ZUH1KM06V2ym",
        "outputId": "f365cbf7-a660-4f88-a608-059fd895eed7"
      },
      "outputs": [
        {
          "name": "stdout",
          "output_type": "stream",
          "text": [
            "p-value: 2.83738733381343e-05\n"
          ]
        }
      ],
      "source": [
        "# 1st order differencing\n",
        "v1 = df['AAPL'].diff().dropna()\n",
        "\n",
        "# adf test on the new series. if p value < 0.05 the series is stationary\n",
        "results1 = adfuller(v1)\n",
        "print('p-value:', results1[1]) # adf, pvalue, usedlag_, nobs_, critical_values_, icbest_"
      ]
    },
    {
      "cell_type": "code",
      "execution_count": null,
      "metadata": {
        "colab": {
          "base_uri": "https://localhost:8080/",
          "height": 345
        },
        "id": "qXTPrhUMw_ym",
        "outputId": "96604ff1-7f7d-4634-c02c-301d6d56dd23"
      },
      "outputs": [
        {
          "data": {
            "image/png": "[encoded data removed]",
            "text/plain": [
              "<Figure size 560x320 with 1 Axes>"
            ]
          },
          "metadata": {
            "needs_background": "light"
          },
          "output_type": "display_data"
        }
      ],
      "source": [
        "# Plot the differenced series\n",
        "plt.plot(v1)\n",
        "plt.title('1st order differenced series')\n",
        "plt.xlabel('Date')\n",
        "plt.xticks(rotation=30)\n",
        "plt.ylabel('Price (USD)')\n",
        "plt.show()"
      ]
    },
    {
      "cell_type": "code",
      "execution_count": null,
      "metadata": {
        "colab": {
          "base_uri": "https://localhost:8080/"
        },
        "id": "xAuxMoPFipDO",
        "outputId": "6628962a-9c11-4268-c7bb-779ff480c064"
      },
      "outputs": [
        {
          "data": {
            "text/plain": [
              "0.7717390869565218"
            ]
          },
          "execution_count": 60,
          "metadata": {},
          "output_type": "execute_result"
        }
      ],
      "source": [
        "# the mean for above series is\n",
        "(v1.values).mean()"
      ]
    },
    {
      "cell_type": "markdown",
      "metadata": {
        "id": "lOZxdXLa8HAw"
      },
      "source": [
        "The right order of differencing is the minimum differencing required to get a near-stationary series."
      ]
    },
    {
      "cell_type": "markdown",
      "metadata": {
        "id": "fpSWykEvV2yn"
      },
      "source": [
        "    "
      ]
    },
    {
      "cell_type": "code",
      "execution_count": null,
      "metadata": {
        "id": "kVOUda16V2yo"
      },
      "outputs": [],
      "source": [
        "# if reqired, 2nd order differencing would be\n",
        "# v2 = v1.diff().dropna()\n",
        "# results2 = adfuller(v2)\n",
        "# print('p-value:', results2[1]) # adf, pvalue, usedlag_, nobs_, critical_values_, icbest_"
      ]
    },
    {
      "cell_type": "markdown",
      "metadata": {
        "id": "R2SngJvEV2yo"
      },
      "source": [
        "    "
      ]
    },
    {
      "cell_type": "markdown",
      "metadata": {
        "id": "AQtgfIYdg15i"
      },
      "source": [
        "## **Training and Forecasting**"
      ]
    },
    {
      "cell_type": "code",
      "execution_count": null,
      "metadata": {
        "id": "42q2fXT7h_j3"
      },
      "outputs": [],
      "source": [
        "# Use statsmodels 0.11 or later\n",
        "# to check the version after import use: print(statsmodels.__version__)\n",
        "# to upgrade use: !pip install statsmodels --upgrade\n",
        "\n",
        "# Install statsmodel\n",
        "#!pip install statsmodels==0.13\n",
        "import statsmodels"
      ]
    },
    {
      "cell_type": "code",
      "execution_count": null,
      "metadata": {
        "id": "ZMi1LAheV2yX"
      },
      "outputs": [],
      "source": [
        "# Import ARIMA Model\n",
        "from statsmodels.tsa.arima.model import ARIMA"
      ]
    },
    {
      "cell_type": "code",
      "execution_count": null,
      "metadata": {
        "colab": {
          "base_uri": "https://localhost:8080/"
        },
        "id": "i7YkJXgH9JOO",
        "outputId": "047e5031-8575-4294-e594-5030e6dbad69"
      },
      "outputs": [
        {
          "name": "stderr",
          "output_type": "stream",
          "text": [
            "C:\\Users\\swapn\\anaconda3\\Lib\\site-packages\\statsmodels\\tsa\\base\\tsa_model.py:473: ValueWarning: No frequency information was provided, so inferred frequency MS will be used.\n",
            "  self._init_dates(dates, freq)\n",
            "C:\\Users\\swapn\\anaconda3\\Lib\\site-packages\\statsmodels\\tsa\\base\\tsa_model.py:473: ValueWarning: No frequency information was provided, so inferred frequency MS will be used.\n",
            "  self._init_dates(dates, freq)\n",
            "C:\\Users\\swapn\\anaconda3\\Lib\\site-packages\\statsmodels\\tsa\\base\\tsa_model.py:473: ValueWarning: No frequency information was provided, so inferred frequency MS will be used.\n",
            "  self._init_dates(dates, freq)\n"
          ]
        },
        {
          "name": "stdout",
          "output_type": "stream",
          "text": [
            "                               SARIMAX Results                                \n",
            "==============================================================================\n",
            "Dep. Variable:                   AAPL   No. Observations:                   24\n",
            "Model:                 ARIMA(1, 1, 1)   Log Likelihood                 -91.365\n",
            "Date:                Wed, 14 Feb 2024   AIC                            188.731\n",
            "Time:                        20:07:25   BIC                            192.137\n",
            "Sample:                    01-01-2022   HQIC                           189.588\n",
            "                         - 12-01-2023                                         \n",
            "Covariance Type:                  opg                                         \n",
            "==============================================================================\n",
            "                 coef    std err          z      P>|z|      [0.025      0.975]\n",
            "------------------------------------------------------------------------------\n",
            "ar.L1          0.8451      0.522      1.618      0.106      -0.179       1.869\n",
            "ma.L1         -0.9996     75.284     -0.013      0.989    -148.553     146.554\n",
            "sigma2       157.6739   1.18e+04      0.013      0.989   -2.29e+04    2.32e+04\n",
            "===================================================================================\n",
            "Ljung-Box (L1) (Q):                   0.01   Jarque-Bera (JB):                 1.30\n",
            "Prob(Q):                              0.94   Prob(JB):                         0.52\n",
            "Heteroskedasticity (H):               0.67   Skew:                            -0.02\n",
            "Prob(H) (two-sided):                  0.58   Kurtosis:                         1.84\n",
            "===================================================================================\n",
            "\n",
            "Warnings:\n",
            "[1] Covariance matrix calculated using the outer product of gradients (complex-step).\n"
          ]
        }
      ],
      "source": [
        "# 1,1,1 ARIMA Model\n",
        "arima = ARIMA(df.AAPL, order=(1,1,1))\n",
        "ar_model = arima.fit()\n",
        "print(ar_model.summary())"
      ]
    },
    {
      "cell_type": "markdown",
      "metadata": {
        "id": "UKyHl9tW-lTa"
      },
      "source": [
        "### 1. Coefficients:\n",
        "\n",
        "**ar.L1 (AR coefficient at lag 1):** The coefficient value 0.8450 with a standard error 0.522 suggests the presence of an autoregressive term of order 1. However, the p-value (P>|z|) is 0.106, which is greater than the typical significance level of 0.05, indicating that this coefficient is not statistically significant. <br><br>\n",
        "**ma.L1 (MA coefficient at lag 1):** The coefficient value -0.9996 with a very large standard error 73.545 suggests a moving average effect. The p-value is very high (0.989), indicating that this coefficient is also not statistically significant.<br><br>\n",
        "**sigma2:** This is the estimated variance of the error term, with a value of 157.6766. The standard error of this estimate is quite large relative to the coefficient.<br><br>\n",
        "\n",
        "\n",
        "### 2. Goodness of Fit:\n",
        "\n",
        "**Log Likelihood:** The value -91.365 indicates the log-likelihood of the model, which is a measure of the fit of the model to the data. It’s used for comparing different models; higher values indicate a better fit.<br><br>\n",
        "**AIC (Akaike Information Criterion):** The value 188.731 is a measure used to compare models with a penalty for the number of parameters to prevent overfitting. Lower AIC values indicate a better model.<br><br>\n",
        "**BIC (Bayesian Information Criterion):** Similar to AIC with a stricter penalty for the number of parameters, the BIC value is 192.137. Again, lower is better.<br><br>\n",
        "**HQIC (Hannan-Quinn Information Criterion):** Another criterion for model selection, with a value of 189.588.\n",
        "\n",
        "### 3. Diagnostics:\n",
        "\n",
        "**Ljung-Box (Q):** Tests for lack of fit. A high p-value (0.91) suggests that there is little evidence of lack of fit in the model.<br><br>\n",
        "**Jarque-Bera (JB):** Tests the assumption of normality of the residuals. A high p-value (0.52) suggests that the residuals are normally distributed.<br><br>\n",
        "**Heteroskedasticity (H):** Tests whether the variance of the errors is constant across observations. A high p-value (0.58) suggests no heteroskedasticity.<br><br>\n",
        "\n",
        "\n",
        "### 4. Interpretation:\n",
        "\n",
        "* The model coefficients are not statistically significant (based on the p-values), which may imply that the model might not be the best fit for this data.\n",
        "\n",
        "* The model diagnostics suggest that the residuals do not violate the assumptions of normality and constant variance, which is good. However, the model's predictive accuracy is in question due to the coefficient significance.\n",
        "\n",
        "* The very large standard error for the MA coefficient suggests that there may be issues with the data or the model's specification.\n",
        "\n",
        "Notice here the coefficient of the MA.L1 and MA.L2 term is close to zero and the P-Value in ‘P>|z|’ column is highly insignificant. It should ideally be less than 0.05 for the respective X to be significant.\n",
        "\n",
        "Insignificant p-values imply that the autoregressive and moving average terms are not statistically significant and therefore should be removed from the model.\n",
        "\n",
        "Alternatively, it could mean that the model needs to be refined by including additional variables or using a different order of differencing or a higher order ARIMA model.\n",
        "\n",
        "It's also possible that the data itself may not be suitable for modeling using an ARIMA model, and a different approach may be needed to model the time series."
      ]
    },
    {
      "cell_type": "code",
      "execution_count": null,
      "metadata": {
        "id": "oiPVR1GJke8K"
      },
      "outputs": [],
      "source": [
        "# Forecast\n",
        "forecast = ar_model.get_forecast(2)\n",
        "ypred = forecast.predicted_mean\n",
        "conf_int = forecast.conf_int(alpha=0.05)"
      ]
    },
    {
      "cell_type": "code",
      "execution_count": null,
      "metadata": {
        "id": "79T4_qmVnAkl",
        "outputId": "e6719f5b-2828-4446-ce61-9efedc50ef7c"
      },
      "outputs": [
        {
          "data": {
            "text/plain": [
              "2024-01-01    189.137071\n",
              "2024-02-01    186.269824\n",
              "Freq: MS, Name: predicted_mean, dtype: float64"
            ]
          },
          "execution_count": 26,
          "metadata": {},
          "output_type": "execute_result"
        }
      ],
      "source": [
        "ypred"
      ]
    },
    {
      "cell_type": "markdown",
      "metadata": {
        "id": "Ana3z9Djk5og",
        "outputId": "8955c3a5-0347-4c86-bfa0-505f62f00668"
      },
      "source": [
        "#### Check the actual values on Yahoo Finance\n",
        "\n",
        "https://finance.yahoo.com/quote/AAPL/history?period1=1640908800&period2=1707868800&interval=1mo&filter=history&frequency=1mo&includeAdjustedClose=true"
      ]
    },
    {
      "cell_type": "code",
      "execution_count": null,
      "metadata": {
        "colab": {
          "base_uri": "https://localhost:8080/",
          "height": 206
        },
        "id": "Ory0eok5kpvM",
        "outputId": "b5b974c4-22f1-493c-e373-dc7a5efdbef3"
      },
      "outputs": [
        {
          "data": {
            "text/html": [
              "<div>\n",
              "<style scoped>\n",
              "    .dataframe tbody tr th:only-of-type {\n",
              "        vertical-align: middle;\n",
              "    }\n",
              "\n",
              "    .dataframe tbody tr th {\n",
              "        vertical-align: top;\n",
              "    }\n",
              "\n",
              "    .dataframe thead th {\n",
              "        text-align: right;\n",
              "    }\n",
              "</style>\n",
              "<table border=\"1\" class=\"dataframe\">\n",
              "  <thead>\n",
              "    <tr style=\"text-align: right;\">\n",
              "      <th></th>\n",
              "      <th>price_actual</th>\n",
              "      <th>lower_int</th>\n",
              "      <th>price_predicted</th>\n",
              "      <th>upper_int</th>\n",
              "    </tr>\n",
              "    <tr>\n",
              "      <th>Date</th>\n",
              "      <th></th>\n",
              "      <th></th>\n",
              "      <th></th>\n",
              "      <th></th>\n",
              "    </tr>\n",
              "  </thead>\n",
              "  <tbody>\n",
              "    <tr>\n",
              "      <th>2024-01-01</th>\n",
              "      <td>184.40</td>\n",
              "      <td>164.180604</td>\n",
              "      <td>189.137071</td>\n",
              "      <td>214.093538</td>\n",
              "    </tr>\n",
              "    <tr>\n",
              "      <th>2024-02-01</th>\n",
              "      <td>185.04</td>\n",
              "      <td>153.149987</td>\n",
              "      <td>186.269824</td>\n",
              "      <td>219.38966</td>\n",
              "    </tr>\n",
              "  </tbody>\n",
              "</table>\n",
              "</div>"
            ],
            "text/plain": [
              "           price_actual   lower_int price_predicted   upper_int\n",
              "Date                                                           \n",
              "2024-01-01       184.40  164.180604      189.137071  214.093538\n",
              "2024-02-01       185.04  153.149987      186.269824   219.38966"
            ]
          },
          "execution_count": 27,
          "metadata": {},
          "output_type": "execute_result"
        }
      ],
      "source": [
        "# creating a new Dataframe dp with the prediction values.\n",
        "Date = pd.Series(['2024-01-01', '2024-02-01'])\n",
        "price_actual = pd.Series(['184.40','185.04'])\n",
        "price_predicted = pd.Series(ypred.values)\n",
        "lower_int = pd.Series(conf_int['lower AAPL'].values)\n",
        "upper_int = upper_series = pd.Series(conf_int['upper AAPL'].values)\n",
        "\n",
        "dp = pd.DataFrame([Date, price_actual, lower_int, price_predicted, upper_int], index =['Date','price_actual', 'lower_int', 'price_predicted', 'upper_int']).T\n",
        "dp = dp.set_index('Date')\n",
        "dp.index = pd.to_datetime(dp.index)\n",
        "dp"
      ]
    },
    {
      "cell_type": "code",
      "execution_count": null,
      "metadata": {
        "id": "SqjTVdvanAkl",
        "outputId": "e24662c3-13de-4d25-ab77-d3e09b18d6c7"
      },
      "outputs": [
        {
          "data": {
            "text/html": [
              "<div>\n",
              "<style scoped>\n",
              "    .dataframe tbody tr th:only-of-type {\n",
              "        vertical-align: middle;\n",
              "    }\n",
              "\n",
              "    .dataframe tbody tr th {\n",
              "        vertical-align: top;\n",
              "    }\n",
              "\n",
              "    .dataframe thead th {\n",
              "        text-align: right;\n",
              "    }\n",
              "</style>\n",
              "<table border=\"1\" class=\"dataframe\">\n",
              "  <thead>\n",
              "    <tr style=\"text-align: right;\">\n",
              "      <th></th>\n",
              "      <th>AAPL</th>\n",
              "      <th>TXN</th>\n",
              "    </tr>\n",
              "    <tr>\n",
              "      <th>Date</th>\n",
              "      <th></th>\n",
              "      <th></th>\n",
              "    </tr>\n",
              "  </thead>\n",
              "  <tbody>\n",
              "    <tr>\n",
              "      <th>2022-01-01</th>\n",
              "      <td>174.780000</td>\n",
              "      <td>177.210000</td>\n",
              "    </tr>\n",
              "    <tr>\n",
              "      <th>2022-02-01</th>\n",
              "      <td>165.119995</td>\n",
              "      <td>169.990005</td>\n",
              "    </tr>\n",
              "    <tr>\n",
              "      <th>2022-03-01</th>\n",
              "      <td>174.610001</td>\n",
              "      <td>183.479996</td>\n",
              "    </tr>\n",
              "    <tr>\n",
              "      <th>2022-04-01</th>\n",
              "      <td>157.649994</td>\n",
              "      <td>170.250000</td>\n",
              "    </tr>\n",
              "    <tr>\n",
              "      <th>2022-05-01</th>\n",
              "      <td>148.839996</td>\n",
              "      <td>176.759995</td>\n",
              "    </tr>\n",
              "  </tbody>\n",
              "</table>\n",
              "</div>"
            ],
            "text/plain": [
              "                  AAPL         TXN\n",
              "Date                              \n",
              "2022-01-01  174.780000  177.210000\n",
              "2022-02-01  165.119995  169.990005\n",
              "2022-03-01  174.610001  183.479996\n",
              "2022-04-01  157.649994  170.250000\n",
              "2022-05-01  148.839996  176.759995"
            ]
          },
          "execution_count": 45,
          "metadata": {},
          "output_type": "execute_result"
        }
      ],
      "source": [
        "data = data.set_index('Date')"
      ]
    },
    {
      "cell_type": "code",
      "execution_count": null,
      "metadata": {
        "colab": {
          "base_uri": "https://localhost:8080/",
          "height": 315
        },
        "id": "sf6NPHQhlc6X",
        "outputId": "a4fad9ac-0853-44c7-80a7-b5b67fca93b6"
      },
      "outputs": [
        {
          "data": {
            "image/png": "[encoded data removed]",
            "text/plain": [
              "<Figure size 640x480 with 1 Axes>"
            ]
          },
          "metadata": {},
          "output_type": "display_data"
        }
      ],
      "source": [
        "# Plot\n",
        "plt.plot(data.AAPL)\n",
        "plt.plot(dp.price_predicted, color='orange')\n",
        "plt.fill_between(dp.index,\n",
        "                 lower_int,\n",
        "                 upper_int,\n",
        "                 color='k', alpha=.15)\n",
        "\n",
        "\n",
        "plt.title('Model Performance')\n",
        "plt.legend(['Actual','Prediction'], loc='lower right')\n",
        "plt.xlabel('Date')\n",
        "plt.xticks(rotation=30)\n",
        "plt.ylabel('Price (USD)')\n",
        "plt.show()"
      ]
    },
    {
      "cell_type": "code",
      "execution_count": null,
      "metadata": {
        "colab": {
          "base_uri": "https://localhost:8080/"
        },
        "id": "1ldYrgzwpW0D",
        "outputId": "1482925e-e146-489c-e7c8-941608059922"
      },
      "outputs": [
        {
          "name": "stdout",
          "output_type": "stream",
          "text": [
            "ARIMA MAE =  2.9834473401344184\n"
          ]
        }
      ],
      "source": [
        "# import evaluation matrices\n",
        "from sklearn.metrics import mean_absolute_error\n",
        "\n",
        "# Evaluate the model\n",
        "print('ARIMA MAE = ', mean_absolute_error(dp.price_actual, dp.price_predicted))"
      ]
    },
    {
      "cell_type": "markdown",
      "metadata": {
        "id": "tv9OjDzaV2ys"
      },
      "source": [
        "    "
      ]
    },
    {
      "cell_type": "markdown",
      "metadata": {
        "id": "H1JpJcG6p69y"
      },
      "source": [
        "# Bivariate - Using the exogenous variable - **'TXN'**"
      ]
    },
    {
      "cell_type": "code",
      "execution_count": null,
      "metadata": {
        "id": "H_PuVy8KrQBh"
      },
      "outputs": [],
      "source": [
        "# Bivariate analysis - We will use both 'Apple' and 'TexasIns' variables.\n",
        "# Training data - January 2020 to January 2022\n",
        "# Testing data - February 2022 - May 2022\n",
        "dfx = data.iloc[0:-2,0:3]"
      ]
    },
    {
      "cell_type": "code",
      "execution_count": null,
      "metadata": {
        "colab": {
          "base_uri": "https://localhost:8080/",
          "height": 392
        },
        "id": "3i7sn6IqrbVW",
        "outputId": "2701c914-ec1f-4ee2-f950-f922dce8add2"
      },
      "outputs": [
        {
          "data": {
            "text/html": [
              "<div>\n",
              "<style scoped>\n",
              "    .dataframe tbody tr th:only-of-type {\n",
              "        vertical-align: middle;\n",
              "    }\n",
              "\n",
              "    .dataframe tbody tr th {\n",
              "        vertical-align: top;\n",
              "    }\n",
              "\n",
              "    .dataframe thead th {\n",
              "        text-align: right;\n",
              "    }\n",
              "</style>\n",
              "<table border=\"1\" class=\"dataframe\">\n",
              "  <thead>\n",
              "    <tr style=\"text-align: right;\">\n",
              "      <th></th>\n",
              "      <th>Date</th>\n",
              "      <th>AAPL</th>\n",
              "      <th>TXN</th>\n",
              "    </tr>\n",
              "  </thead>\n",
              "  <tbody>\n",
              "    <tr>\n",
              "      <th>0</th>\n",
              "      <td>2022-01-01</td>\n",
              "      <td>174.780000</td>\n",
              "      <td>177.210000</td>\n",
              "    </tr>\n",
              "    <tr>\n",
              "      <th>1</th>\n",
              "      <td>2022-02-01</td>\n",
              "      <td>165.119995</td>\n",
              "      <td>169.990005</td>\n",
              "    </tr>\n",
              "    <tr>\n",
              "      <th>2</th>\n",
              "      <td>2022-03-01</td>\n",
              "      <td>174.610001</td>\n",
              "      <td>183.479996</td>\n",
              "    </tr>\n",
              "    <tr>\n",
              "      <th>3</th>\n",
              "      <td>2022-04-01</td>\n",
              "      <td>157.649994</td>\n",
              "      <td>170.250000</td>\n",
              "    </tr>\n",
              "    <tr>\n",
              "      <th>4</th>\n",
              "      <td>2022-05-01</td>\n",
              "      <td>148.839996</td>\n",
              "      <td>176.759995</td>\n",
              "    </tr>\n",
              "    <tr>\n",
              "      <th>5</th>\n",
              "      <td>2022-06-01</td>\n",
              "      <td>136.720001</td>\n",
              "      <td>153.649994</td>\n",
              "    </tr>\n",
              "    <tr>\n",
              "      <th>6</th>\n",
              "      <td>2022-07-01</td>\n",
              "      <td>162.509995</td>\n",
              "      <td>178.889999</td>\n",
              "    </tr>\n",
              "    <tr>\n",
              "      <th>7</th>\n",
              "      <td>2022-08-01</td>\n",
              "      <td>157.220001</td>\n",
              "      <td>165.210007</td>\n",
              "    </tr>\n",
              "    <tr>\n",
              "      <th>8</th>\n",
              "      <td>2022-09-01</td>\n",
              "      <td>138.199997</td>\n",
              "      <td>154.779999</td>\n",
              "    </tr>\n",
              "    <tr>\n",
              "      <th>9</th>\n",
              "      <td>2022-10-01</td>\n",
              "      <td>153.339996</td>\n",
              "      <td>160.630005</td>\n",
              "    </tr>\n",
              "    <tr>\n",
              "      <th>10</th>\n",
              "      <td>2022-11-01</td>\n",
              "      <td>148.029999</td>\n",
              "      <td>180.460007</td>\n",
              "    </tr>\n",
              "    <tr>\n",
              "      <th>11</th>\n",
              "      <td>2022-12-01</td>\n",
              "      <td>129.929993</td>\n",
              "      <td>165.220001</td>\n",
              "    </tr>\n",
              "    <tr>\n",
              "      <th>12</th>\n",
              "      <td>2023-01-01</td>\n",
              "      <td>144.289993</td>\n",
              "      <td>177.210007</td>\n",
              "    </tr>\n",
              "    <tr>\n",
              "      <th>13</th>\n",
              "      <td>2023-02-01</td>\n",
              "      <td>147.410004</td>\n",
              "      <td>171.449997</td>\n",
              "    </tr>\n",
              "    <tr>\n",
              "      <th>14</th>\n",
              "      <td>2023-03-01</td>\n",
              "      <td>164.899994</td>\n",
              "      <td>186.009995</td>\n",
              "    </tr>\n",
              "    <tr>\n",
              "      <th>15</th>\n",
              "      <td>2023-04-01</td>\n",
              "      <td>169.679993</td>\n",
              "      <td>167.199997</td>\n",
              "    </tr>\n",
              "    <tr>\n",
              "      <th>16</th>\n",
              "      <td>2023-05-01</td>\n",
              "      <td>177.250000</td>\n",
              "      <td>173.880005</td>\n",
              "    </tr>\n",
              "    <tr>\n",
              "      <th>17</th>\n",
              "      <td>2023-06-01</td>\n",
              "      <td>193.970001</td>\n",
              "      <td>180.020004</td>\n",
              "    </tr>\n",
              "    <tr>\n",
              "      <th>18</th>\n",
              "      <td>2023-07-01</td>\n",
              "      <td>196.449997</td>\n",
              "      <td>180.000000</td>\n",
              "    </tr>\n",
              "    <tr>\n",
              "      <th>19</th>\n",
              "      <td>2023-08-01</td>\n",
              "      <td>187.869995</td>\n",
              "      <td>168.059998</td>\n",
              "    </tr>\n",
              "    <tr>\n",
              "      <th>20</th>\n",
              "      <td>2023-09-01</td>\n",
              "      <td>171.210007</td>\n",
              "      <td>159.009995</td>\n",
              "    </tr>\n",
              "    <tr>\n",
              "      <th>21</th>\n",
              "      <td>2023-10-01</td>\n",
              "      <td>170.770004</td>\n",
              "      <td>142.009995</td>\n",
              "    </tr>\n",
              "    <tr>\n",
              "      <th>22</th>\n",
              "      <td>2023-11-01</td>\n",
              "      <td>189.949997</td>\n",
              "      <td>152.710007</td>\n",
              "    </tr>\n",
              "    <tr>\n",
              "      <th>23</th>\n",
              "      <td>2023-12-01</td>\n",
              "      <td>192.529999</td>\n",
              "      <td>170.460007</td>\n",
              "    </tr>\n",
              "  </tbody>\n",
              "</table>\n",
              "</div>"
            ],
            "text/plain": [
              "         Date        AAPL         TXN\n",
              "0  2022-01-01  174.780000  177.210000\n",
              "1  2022-02-01  165.119995  169.990005\n",
              "2  2022-03-01  174.610001  183.479996\n",
              "3  2022-04-01  157.649994  170.250000\n",
              "4  2022-05-01  148.839996  176.759995\n",
              "5  2022-06-01  136.720001  153.649994\n",
              "6  2022-07-01  162.509995  178.889999\n",
              "7  2022-08-01  157.220001  165.210007\n",
              "8  2022-09-01  138.199997  154.779999\n",
              "9  2022-10-01  153.339996  160.630005\n",
              "10 2022-11-01  148.029999  180.460007\n",
              "11 2022-12-01  129.929993  165.220001\n",
              "12 2023-01-01  144.289993  177.210007\n",
              "13 2023-02-01  147.410004  171.449997\n",
              "14 2023-03-01  164.899994  186.009995\n",
              "15 2023-04-01  169.679993  167.199997\n",
              "16 2023-05-01  177.250000  173.880005\n",
              "17 2023-06-01  193.970001  180.020004\n",
              "18 2023-07-01  196.449997  180.000000\n",
              "19 2023-08-01  187.869995  168.059998\n",
              "20 2023-09-01  171.210007  159.009995\n",
              "21 2023-10-01  170.770004  142.009995\n",
              "22 2023-11-01  189.949997  152.710007\n",
              "23 2023-12-01  192.529999  170.460007"
            ]
          },
          "execution_count": 34,
          "metadata": {},
          "output_type": "execute_result"
        }
      ],
      "source": [
        "dfx"
      ]
    },
    {
      "cell_type": "code",
      "execution_count": null,
      "metadata": {
        "id": "4cFSSYnFp40W",
        "outputId": "b76aba6c-0a82-43ca-a93d-e142950379cb"
      },
      "outputs": [
        {
          "name": "stdout",
          "output_type": "stream",
          "text": [
            "                               SARIMAX Results                                \n",
            "==============================================================================\n",
            "Dep. Variable:                   AAPL   No. Observations:                   24\n",
            "Model:                 ARIMA(1, 1, 1)   Log Likelihood                 -84.622\n",
            "Date:                Wed, 14 Feb 2024   AIC                            177.243\n",
            "Time:                        20:11:59   BIC                            181.785\n",
            "Sample:                             0   HQIC                           178.386\n",
            "                                 - 24                                         \n",
            "Covariance Type:                  opg                                         \n",
            "==============================================================================\n",
            "                 coef    std err          z      P>|z|      [0.025      0.975]\n",
            "------------------------------------------------------------------------------\n",
            "TXN            0.5874      0.154      3.820      0.000       0.286       0.889\n",
            "ar.L1         -0.5180      1.284     -0.403      0.687      -3.035       1.999\n",
            "ma.L1          0.6282      1.223      0.514      0.607      -1.768       3.024\n",
            "sigma2        91.7761     48.921      1.876      0.061      -4.106     187.659\n",
            "===================================================================================\n",
            "Ljung-Box (L1) (Q):                   0.04   Jarque-Bera (JB):                 1.29\n",
            "Prob(Q):                              0.84   Prob(JB):                         0.52\n",
            "Heteroskedasticity (H):               1.19   Skew:                            -0.30\n",
            "Prob(H) (two-sided):                  0.81   Kurtosis:                         2.01\n",
            "===================================================================================\n",
            "\n",
            "Warnings:\n",
            "[1] Covariance matrix calculated using the outer product of gradients (complex-step).\n"
          ]
        }
      ],
      "source": [
        "# 1,1,1 ARIMAX Model with exogenous variable\n",
        "model2 = ARIMA(dfx.AAPL, exog=dfx.TXN, order=(1,1,1))\n",
        "arimax = model2.fit()\n",
        "print(arimax.summary())"
      ]
    },
    {
      "cell_type": "code",
      "execution_count": null,
      "metadata": {
        "colab": {
          "base_uri": "https://localhost:8080/",
          "height": 364
        },
        "id": "UqeytxSVkTQG",
        "outputId": "51894bee-425f-4aef-dc33-c8aebe36ebb8"
      },
      "outputs": [
        {
          "ename": "ValueError",
          "evalue": "Out-of-sample operations in a model with a regression component require additional exogenous values via the `exog` argument.",
          "output_type": "error",
          "traceback": [
            "\u001b[1;31m---------------------------------------------------------------------------\u001b[0m",
            "\u001b[1;31mValueError\u001b[0m                                Traceback (most recent call last)",
            "Cell \u001b[1;32mIn[36], line 2\u001b[0m\n\u001b[0;32m      1\u001b[0m \u001b[38;5;66;03m# Forecast\u001b[39;00m\n\u001b[1;32m----> 2\u001b[0m forecast \u001b[38;5;241m=\u001b[39m arimax\u001b[38;5;241m.\u001b[39mget_forecast(\u001b[38;5;241m2\u001b[39m)\n\u001b[0;32m      3\u001b[0m ypred \u001b[38;5;241m=\u001b[39m forecast\u001b[38;5;241m.\u001b[39mpredicted_mean\n\u001b[0;32m      4\u001b[0m conf_int \u001b[38;5;241m=\u001b[39m forecast\u001b[38;5;241m.\u001b[39mconf_int(alpha\u001b[38;5;241m=\u001b[39m\u001b[38;5;241m0.05\u001b[39m)\n",
            "File \u001b[1;32m~\\anaconda3\\Lib\\site-packages\\statsmodels\\tsa\\statespace\\mlemodel.py:3417\u001b[0m, in \u001b[0;36mMLEResults.get_forecast\u001b[1;34m(self, steps, signal_only, **kwargs)\u001b[0m\n\u001b[0;32m   3415\u001b[0m \u001b[38;5;28;01melse\u001b[39;00m:\n\u001b[0;32m   3416\u001b[0m     end \u001b[38;5;241m=\u001b[39m steps\n\u001b[1;32m-> 3417\u001b[0m \u001b[38;5;28;01mreturn\u001b[39;00m \u001b[38;5;28mself\u001b[39m\u001b[38;5;241m.\u001b[39mget_prediction(start\u001b[38;5;241m=\u001b[39m\u001b[38;5;28mself\u001b[39m\u001b[38;5;241m.\u001b[39mnobs, end\u001b[38;5;241m=\u001b[39mend,\n\u001b[0;32m   3418\u001b[0m                            signal_only\u001b[38;5;241m=\u001b[39msignal_only, \u001b[38;5;241m*\u001b[39m\u001b[38;5;241m*\u001b[39mkwargs)\n",
            "File \u001b[1;32m~\\anaconda3\\Lib\\site-packages\\statsmodels\\tsa\\statespace\\mlemodel.py:3355\u001b[0m, in \u001b[0;36mMLEResults.get_prediction\u001b[1;34m(self, start, end, dynamic, information_set, signal_only, index, exog, extend_model, extend_kwargs, **kwargs)\u001b[0m\n\u001b[0;32m   3352\u001b[0m     extend_model \u001b[38;5;241m=\u001b[39m (\u001b[38;5;28mself\u001b[39m\u001b[38;5;241m.\u001b[39mmodel\u001b[38;5;241m.\u001b[39mexog \u001b[38;5;129;01mis\u001b[39;00m \u001b[38;5;129;01mnot\u001b[39;00m \u001b[38;5;28;01mNone\u001b[39;00m \u001b[38;5;129;01mor\u001b[39;00m\n\u001b[0;32m   3353\u001b[0m                     \u001b[38;5;129;01mnot\u001b[39;00m \u001b[38;5;28mself\u001b[39m\u001b[38;5;241m.\u001b[39mfilter_results\u001b[38;5;241m.\u001b[39mtime_invariant)\n\u001b[0;32m   3354\u001b[0m \u001b[38;5;28;01mif\u001b[39;00m out_of_sample \u001b[38;5;129;01mand\u001b[39;00m extend_model:\n\u001b[1;32m-> 3355\u001b[0m     kwargs \u001b[38;5;241m=\u001b[39m \u001b[38;5;28mself\u001b[39m\u001b[38;5;241m.\u001b[39mmodel\u001b[38;5;241m.\u001b[39m_get_extension_time_varying_matrices(\n\u001b[0;32m   3356\u001b[0m         \u001b[38;5;28mself\u001b[39m\u001b[38;5;241m.\u001b[39mparams, exog, out_of_sample, extend_kwargs,\n\u001b[0;32m   3357\u001b[0m         transformed\u001b[38;5;241m=\u001b[39m\u001b[38;5;28;01mTrue\u001b[39;00m, includes_fixed\u001b[38;5;241m=\u001b[39m\u001b[38;5;28;01mTrue\u001b[39;00m, \u001b[38;5;241m*\u001b[39m\u001b[38;5;241m*\u001b[39mkwargs)\n\u001b[0;32m   3359\u001b[0m \u001b[38;5;66;03m# Make sure the model class has the current parameters\u001b[39;00m\n\u001b[0;32m   3360\u001b[0m \u001b[38;5;28mself\u001b[39m\u001b[38;5;241m.\u001b[39mmodel\u001b[38;5;241m.\u001b[39mupdate(\u001b[38;5;28mself\u001b[39m\u001b[38;5;241m.\u001b[39mparams, transformed\u001b[38;5;241m=\u001b[39m\u001b[38;5;28;01mTrue\u001b[39;00m, includes_fixed\u001b[38;5;241m=\u001b[39m\u001b[38;5;28;01mTrue\u001b[39;00m)\n",
            "File \u001b[1;32m~\\anaconda3\\Lib\\site-packages\\statsmodels\\tsa\\statespace\\sarimax.py:1718\u001b[0m, in \u001b[0;36mSARIMAX._get_extension_time_varying_matrices\u001b[1;34m(self, params, exog, out_of_sample, extend_kwargs, transformed, includes_fixed, **kwargs)\u001b[0m\n\u001b[0;32m   1708\u001b[0m \u001b[38;5;250m\u001b[39m\u001b[38;5;124;03m\"\"\"\u001b[39;00m\n\u001b[0;32m   1709\u001b[0m \u001b[38;5;124;03mGet time-varying state space system matrices for extended model\u001b[39;00m\n\u001b[0;32m   1710\u001b[0m \n\u001b[1;32m   (...)\u001b[0m\n\u001b[0;32m   1714\u001b[0m \u001b[38;5;124;03mspecial handling in the `simple_differencing=True` case.\u001b[39;00m\n\u001b[0;32m   1715\u001b[0m \u001b[38;5;124;03m\"\"\"\u001b[39;00m\n\u001b[0;32m   1717\u001b[0m \u001b[38;5;66;03m# Get the appropriate exog for the extended sample\u001b[39;00m\n\u001b[1;32m-> 1718\u001b[0m exog \u001b[38;5;241m=\u001b[39m \u001b[38;5;28mself\u001b[39m\u001b[38;5;241m.\u001b[39m_validate_out_of_sample_exog(exog, out_of_sample)\n\u001b[0;32m   1720\u001b[0m \u001b[38;5;66;03m# Get the tmp endog, exog\u001b[39;00m\n\u001b[0;32m   1721\u001b[0m \u001b[38;5;28;01mif\u001b[39;00m \u001b[38;5;28mself\u001b[39m\u001b[38;5;241m.\u001b[39msimple_differencing:\n",
            "File \u001b[1;32m~\\anaconda3\\Lib\\site-packages\\statsmodels\\tsa\\statespace\\mlemodel.py:1769\u001b[0m, in \u001b[0;36mMLEModel._validate_out_of_sample_exog\u001b[1;34m(self, exog, out_of_sample)\u001b[0m\n\u001b[0;32m   1767\u001b[0m \u001b[38;5;28;01mif\u001b[39;00m out_of_sample \u001b[38;5;129;01mand\u001b[39;00m k_exog \u001b[38;5;241m>\u001b[39m \u001b[38;5;241m0\u001b[39m:\n\u001b[0;32m   1768\u001b[0m     \u001b[38;5;28;01mif\u001b[39;00m exog \u001b[38;5;129;01mis\u001b[39;00m \u001b[38;5;28;01mNone\u001b[39;00m:\n\u001b[1;32m-> 1769\u001b[0m         \u001b[38;5;28;01mraise\u001b[39;00m \u001b[38;5;167;01mValueError\u001b[39;00m(\u001b[38;5;124m'\u001b[39m\u001b[38;5;124mOut-of-sample operations in a model\u001b[39m\u001b[38;5;124m'\u001b[39m\n\u001b[0;32m   1770\u001b[0m                          \u001b[38;5;124m'\u001b[39m\u001b[38;5;124m with a regression component require\u001b[39m\u001b[38;5;124m'\u001b[39m\n\u001b[0;32m   1771\u001b[0m                          \u001b[38;5;124m'\u001b[39m\u001b[38;5;124m additional exogenous values via the\u001b[39m\u001b[38;5;124m'\u001b[39m\n\u001b[0;32m   1772\u001b[0m                          \u001b[38;5;124m'\u001b[39m\u001b[38;5;124m `exog` argument.\u001b[39m\u001b[38;5;124m'\u001b[39m)\n\u001b[0;32m   1773\u001b[0m     exog \u001b[38;5;241m=\u001b[39m np\u001b[38;5;241m.\u001b[39marray(exog)\n\u001b[0;32m   1774\u001b[0m     required_exog_shape \u001b[38;5;241m=\u001b[39m (out_of_sample, \u001b[38;5;28mself\u001b[39m\u001b[38;5;241m.\u001b[39mk_exog)\n",
            "\u001b[1;31mValueError\u001b[0m: Out-of-sample operations in a model with a regression component require additional exogenous values via the `exog` argument."
          ]
        }
      ],
      "source": [
        "# Forecast\n",
        "forecast = arimax.get_forecast(2)\n",
        "ypred = forecast.predicted_mean\n",
        "conf_int = forecast.conf_int(alpha=0.05)\n"
      ]
    },
    {
      "cell_type": "code",
      "execution_count": null,
      "metadata": {
        "id": "7pKCbSuSnAkm",
        "outputId": "ce92fb03-3c51-4bbc-904b-d878789c2bea"
      },
      "outputs": [
        {
          "data": {
            "text/html": [
              "<div>\n",
              "<style scoped>\n",
              "    .dataframe tbody tr th:only-of-type {\n",
              "        vertical-align: middle;\n",
              "    }\n",
              "\n",
              "    .dataframe tbody tr th {\n",
              "        vertical-align: top;\n",
              "    }\n",
              "\n",
              "    .dataframe thead th {\n",
              "        text-align: right;\n",
              "    }\n",
              "</style>\n",
              "<table border=\"1\" class=\"dataframe\">\n",
              "  <thead>\n",
              "    <tr style=\"text-align: right;\">\n",
              "      <th></th>\n",
              "      <th>Date</th>\n",
              "      <th>AAPL</th>\n",
              "      <th>TXN</th>\n",
              "    </tr>\n",
              "  </thead>\n",
              "  <tbody>\n",
              "    <tr>\n",
              "      <th>21</th>\n",
              "      <td>2023-10-01</td>\n",
              "      <td>170.770004</td>\n",
              "      <td>142.009995</td>\n",
              "    </tr>\n",
              "    <tr>\n",
              "      <th>22</th>\n",
              "      <td>2023-11-01</td>\n",
              "      <td>189.949997</td>\n",
              "      <td>152.710007</td>\n",
              "    </tr>\n",
              "    <tr>\n",
              "      <th>23</th>\n",
              "      <td>2023-12-01</td>\n",
              "      <td>192.529999</td>\n",
              "      <td>170.460007</td>\n",
              "    </tr>\n",
              "    <tr>\n",
              "      <th>24</th>\n",
              "      <td>2024-01-01</td>\n",
              "      <td>NaN</td>\n",
              "      <td>160.119995</td>\n",
              "    </tr>\n",
              "    <tr>\n",
              "      <th>25</th>\n",
              "      <td>2024-02-01</td>\n",
              "      <td>NaN</td>\n",
              "      <td>156.850006</td>\n",
              "    </tr>\n",
              "  </tbody>\n",
              "</table>\n",
              "</div>"
            ],
            "text/plain": [
              "         Date        AAPL         TXN\n",
              "21 2023-10-01  170.770004  142.009995\n",
              "22 2023-11-01  189.949997  152.710007\n",
              "23 2023-12-01  192.529999  170.460007\n",
              "24 2024-01-01         NaN  160.119995\n",
              "25 2024-02-01         NaN  156.850006"
            ]
          },
          "execution_count": 37,
          "metadata": {},
          "output_type": "execute_result"
        }
      ],
      "source": [
        "data.tail()"
      ]
    },
    {
      "cell_type": "code",
      "execution_count": null,
      "metadata": {
        "colab": {
          "base_uri": "https://localhost:8080/"
        },
        "id": "FLbLzP2Sk0dJ",
        "outputId": "cf108fd8-fbc8-418b-c146-13221371efb4"
      },
      "outputs": [
        {
          "data": {
            "text/plain": [
              "Date\n",
              "2024-01-01    160.119995\n",
              "2024-02-01    156.850006\n",
              "Name: TXN, dtype: float64"
            ]
          },
          "execution_count": 102,
          "metadata": {},
          "output_type": "execute_result"
        }
      ],
      "source": [
        "# we have the values for TXN\n",
        "data.TXN.iloc[-2:]"
      ]
    },
    {
      "cell_type": "code",
      "execution_count": null,
      "metadata": {
        "colab": {
          "base_uri": "https://localhost:8080/"
        },
        "id": "TuVprtclkTJX",
        "outputId": "15d9dda9-76b9-4425-84ae-87ffefa92850"
      },
      "outputs": [
        {
          "data": {
            "text/plain": [
              "array([160.119995, 156.850006])"
            ]
          },
          "execution_count": 38,
          "metadata": {},
          "output_type": "execute_result"
        }
      ],
      "source": [
        "# put those values in a variable\n",
        "ex = data.TXN.iloc[-2:].values\n",
        "ex"
      ]
    },
    {
      "cell_type": "code",
      "execution_count": null,
      "metadata": {
        "id": "JBTurbpap4jP"
      },
      "outputs": [],
      "source": [
        "# Forecast\n",
        "forecast = arimax.get_forecast(2, exog=ex)\n",
        "ypred = forecast.predicted_mean\n",
        "conf_int = forecast.conf_int(alpha=0.05)"
      ]
    },
    {
      "cell_type": "code",
      "execution_count": null,
      "metadata": {
        "colab": {
          "base_uri": "https://localhost:8080/",
          "height": 206
        },
        "id": "MGBRzrhgp4cR",
        "outputId": "07091123-e1eb-4006-ed36-ff571da3f3f9"
      },
      "outputs": [
        {
          "data": {
            "text/html": [
              "<div>\n",
              "<style scoped>\n",
              "    .dataframe tbody tr th:only-of-type {\n",
              "        vertical-align: middle;\n",
              "    }\n",
              "\n",
              "    .dataframe tbody tr th {\n",
              "        vertical-align: top;\n",
              "    }\n",
              "\n",
              "    .dataframe thead th {\n",
              "        text-align: right;\n",
              "    }\n",
              "</style>\n",
              "<table border=\"1\" class=\"dataframe\">\n",
              "  <thead>\n",
              "    <tr style=\"text-align: right;\">\n",
              "      <th></th>\n",
              "      <th>price_actual</th>\n",
              "      <th>lower_int</th>\n",
              "      <th>price_predicted</th>\n",
              "      <th>upper_int</th>\n",
              "    </tr>\n",
              "    <tr>\n",
              "      <th>Date</th>\n",
              "      <th></th>\n",
              "      <th></th>\n",
              "      <th></th>\n",
              "      <th></th>\n",
              "    </tr>\n",
              "  </thead>\n",
              "  <tbody>\n",
              "    <tr>\n",
              "      <th>2024-01-01</th>\n",
              "      <td>184.40</td>\n",
              "      <td>166.699431</td>\n",
              "      <td>185.47586</td>\n",
              "      <td>204.252288</td>\n",
              "    </tr>\n",
              "    <tr>\n",
              "      <th>2024-02-01</th>\n",
              "      <td>185.04</td>\n",
              "      <td>156.007006</td>\n",
              "      <td>184.062512</td>\n",
              "      <td>212.118018</td>\n",
              "    </tr>\n",
              "  </tbody>\n",
              "</table>\n",
              "</div>"
            ],
            "text/plain": [
              "           price_actual   lower_int price_predicted   upper_int\n",
              "Date                                                           \n",
              "2024-01-01       184.40  166.699431       185.47586  204.252288\n",
              "2024-02-01       185.04  156.007006      184.062512  212.118018"
            ]
          },
          "execution_count": 40,
          "metadata": {},
          "output_type": "execute_result"
        }
      ],
      "source": [
        "# creating a new Dataframe dp with the prediction values.\n",
        "Year = pd.Series(['2024-01-01', '2024-02-01'])\n",
        "price_actual = pd.Series(['184.40','185.04'])\n",
        "price_predicted = pd.Series(ypred.values)\n",
        "lower_int = pd.Series(conf_int['lower AAPL'].values)\n",
        "upper_int = upper_series = pd.Series(conf_int['upper AAPL'].values)\n",
        "\n",
        "\n",
        "dpx = pd.DataFrame([Date, price_actual, lower_int, price_predicted, upper_int], index =['Date','price_actual', 'lower_int','price_predicted','upper_int' ]).T\n",
        "dpx = dpx.set_index('Date')\n",
        "dpx.index = pd.to_datetime(dpx.index)\n",
        "dpx"
      ]
    },
    {
      "cell_type": "code",
      "execution_count": null,
      "metadata": {
        "colab": {
          "base_uri": "https://localhost:8080/",
          "height": 315
        },
        "id": "RnhAKiAJp4Kn",
        "outputId": "dab383f7-30f6-40f9-f7e0-82670eb276d1"
      },
      "outputs": [
        {
          "data": {
            "image/png": "[encoded data removed]",
            "text/plain": [
              "<Figure size 640x480 with 1 Axes>"
            ]
          },
          "metadata": {},
          "output_type": "display_data"
        }
      ],
      "source": [
        "# Plot\n",
        "plt.plot(data.AAPL)\n",
        "plt.plot(dpx.price_predicted, color='orange')\n",
        "plt.fill_between(dpx.index,\n",
        "                 lower_int,\n",
        "                 upper_int,\n",
        "                 color='k', alpha=.15)\n",
        "plt.title('Model Performance')\n",
        "plt.legend(['Actual','Prediction'], loc='lower right')\n",
        "plt.xlabel('Date')\n",
        "plt.xticks(rotation=30)\n",
        "plt.ylabel('Price (USD)')\n",
        "plt.show()"
      ]
    },
    {
      "cell_type": "code",
      "execution_count": null,
      "metadata": {
        "colab": {
          "base_uri": "https://localhost:8080/"
        },
        "id": "GXnA6lO9xKe0",
        "outputId": "9d66e117-eef9-4806-c3d8-3bd1828d1fd6"
      },
      "outputs": [
        {
          "name": "stdout",
          "output_type": "stream",
          "text": [
            "ARIMAX MAE =  1.0266739231475412\n"
          ]
        }
      ],
      "source": [
        "# import evaluation matrices\n",
        "from sklearn.metrics import mean_absolute_error\n",
        "\n",
        "# Evaluate the model\n",
        "print('ARIMAX MAE = ', mean_absolute_error(dpx.price_actual, dpx.price_predicted))"
      ]
    },
    {
      "cell_type": "markdown",
      "metadata": {
        "id": "_vEWEp6RyxP5"
      },
      "source": [
        "  "
      ]
    },
    {
      "cell_type": "markdown",
      "metadata": {
        "id": "9qLCJZQqV2yy"
      },
      "source": [
        "For further learning on time series models:<br>\n",
        "\n",
        "* https://www.machinelearningplus.com/time-series/time-series-analysis-python/<br>\n",
        "* https://www.machinelearningplus.com/time-series/arima-model-time-series-forecasting-python/\n"
      ]
    },
    {
      "cell_type": "markdown",
      "source": [
        "# Preparaing Data for ML Models"
      ],
      "metadata": {
        "id": "sWx5Wdp5or0a"
      }
    },
    {
      "cell_type": "code",
      "source": [
        "import yfinance as yf"
      ],
      "metadata": {
        "id": "G7feE79Wo2fc"
      },
      "execution_count": null,
      "outputs": []
    },
    {
      "cell_type": "code",
      "source": [
        "data = yf.download(\"AAPL\", start=\"2000-01-01\", end=\"2022-05-31\")\n",
        "data.head()"
      ],
      "metadata": {
        "colab": {
          "base_uri": "https://localhost:8080/",
          "height": 252
        },
        "id": "4f5wY8eeo4UJ",
        "outputId": "7ba0f339-72da-45d3-dbbd-9ad00aadd4b2"
      },
      "execution_count": null,
      "outputs": [
        {
          "output_type": "stream",
          "name": "stderr",
          "text": [
            "\r[*********************100%%**********************]  1 of 1 completed\n"
          ]
        },
        {
          "output_type": "execute_result",
          "data": {
            "text/plain": [
              "                Open      High       Low     Close  Adj Close     Volume\n",
              "Date                                                                    \n",
              "2000-01-03  0.936384  1.004464  0.907924  0.999442   0.844981  535796800\n",
              "2000-01-04  0.966518  0.987723  0.903460  0.915179   0.773741  512377600\n",
              "2000-01-05  0.926339  0.987165  0.919643  0.928571   0.785063  778321600\n",
              "2000-01-06  0.947545  0.955357  0.848214  0.848214   0.717125  767972800\n",
              "2000-01-07  0.861607  0.901786  0.852679  0.888393   0.751094  460734400"
            ],
            "text/html": [
              "\n",
              "  <div id=\"df-6658af0d-8b2a-4ddc-a2a3-2f23b80a210f\" class=\"colab-df-container\">\n",
              "    <div>\n",
              "<style scoped>\n",
              "    .dataframe tbody tr th:only-of-type {\n",
              "        vertical-align: middle;\n",
              "    }\n",
              "\n",
              "    .dataframe tbody tr th {\n",
              "        vertical-align: top;\n",
              "    }\n",
              "\n",
              "    .dataframe thead th {\n",
              "        text-align: right;\n",
              "    }\n",
              "</style>\n",
              "<table border=\"1\" class=\"dataframe\">\n",
              "  <thead>\n",
              "    <tr style=\"text-align: right;\">\n",
              "      <th></th>\n",
              "      <th>Open</th>\n",
              "      <th>High</th>\n",
              "      <th>Low</th>\n",
              "      <th>Close</th>\n",
              "      <th>Adj Close</th>\n",
              "      <th>Volume</th>\n",
              "    </tr>\n",
              "    <tr>\n",
              "      <th>Date</th>\n",
              "      <th></th>\n",
              "      <th></th>\n",
              "      <th></th>\n",
              "      <th></th>\n",
              "      <th></th>\n",
              "      <th></th>\n",
              "    </tr>\n",
              "  </thead>\n",
              "  <tbody>\n",
              "    <tr>\n",
              "      <th>2000-01-03</th>\n",
              "      <td>0.936384</td>\n",
              "      <td>1.004464</td>\n",
              "      <td>0.907924</td>\n",
              "      <td>0.999442</td>\n",
              "      <td>0.844981</td>\n",
              "      <td>535796800</td>\n",
              "    </tr>\n",
              "    <tr>\n",
              "      <th>2000-01-04</th>\n",
              "      <td>0.966518</td>\n",
              "      <td>0.987723</td>\n",
              "      <td>0.903460</td>\n",
              "      <td>0.915179</td>\n",
              "      <td>0.773741</td>\n",
              "      <td>512377600</td>\n",
              "    </tr>\n",
              "    <tr>\n",
              "      <th>2000-01-05</th>\n",
              "      <td>0.926339</td>\n",
              "      <td>0.987165</td>\n",
              "      <td>0.919643</td>\n",
              "      <td>0.928571</td>\n",
              "      <td>0.785063</td>\n",
              "      <td>778321600</td>\n",
              "    </tr>\n",
              "    <tr>\n",
              "      <th>2000-01-06</th>\n",
              "      <td>0.947545</td>\n",
              "      <td>0.955357</td>\n",
              "      <td>0.848214</td>\n",
              "      <td>0.848214</td>\n",
              "      <td>0.717125</td>\n",
              "      <td>767972800</td>\n",
              "    </tr>\n",
              "    <tr>\n",
              "      <th>2000-01-07</th>\n",
              "      <td>0.861607</td>\n",
              "      <td>0.901786</td>\n",
              "      <td>0.852679</td>\n",
              "      <td>0.888393</td>\n",
              "      <td>0.751094</td>\n",
              "      <td>460734400</td>\n",
              "    </tr>\n",
              "  </tbody>\n",
              "</table>\n",
              "</div>\n",
              "    <div class=\"colab-df-buttons\">\n",
              "\n",
              "  <div class=\"colab-df-container\">\n",
              "    <button class=\"colab-df-convert\" onclick=\"convertToInteractive('df-6658af0d-8b2a-4ddc-a2a3-2f23b80a210f')\"\n",
              "            title=\"Convert this dataframe to an interactive table.\"\n",
              "            style=\"display:none;\">\n",
              "\n",
              "  <svg xmlns=\"http://www.w3.org/2000/svg\" height=\"24px\" viewBox=\"0 -960 960 960\">\n",
              "    <path d=\"M120-120v-720h720v720H120Zm60-500h600v-160H180v160Zm220 220h160v-160H400v160Zm0 220h160v-160H400v160ZM180-400h160v-160H180v160Zm440 0h160v-160H620v160ZM180-180h160v-160H180v160Zm440 0h160v-160H620v160Z\"/>\n",
              "  </svg>\n",
              "    </button>\n",
              "\n",
              "  <style>\n",
              "    .colab-df-container {\n",
              "      display:flex;\n",
              "      gap: 12px;\n",
              "    }\n",
              "\n",
              "    .colab-df-convert {\n",
              "      background-color: #E8F0FE;\n",
              "      border: none;\n",
              "      border-radius: 50%;\n",
              "      cursor: pointer;\n",
              "      display: none;\n",
              "      fill: #1967D2;\n",
              "      height: 32px;\n",
              "      padding: 0 0 0 0;\n",
              "      width: 32px;\n",
              "    }\n",
              "\n",
              "    .colab-df-convert:hover {\n",
              "      background-color: #E2EBFA;\n",
              "      box-shadow: 0px 1px 2px rgba(60, 64, 67, 0.3), 0px 1px 3px 1px rgba(60, 64, 67, 0.15);\n",
              "      fill: #174EA6;\n",
              "    }\n",
              "\n",
              "    .colab-df-buttons div {\n",
              "      margin-bottom: 4px;\n",
              "    }\n",
              "\n",
              "    [theme=dark] .colab-df-convert {\n",
              "      background-color: #3B4455;\n",
              "      fill: #D2E3FC;\n",
              "    }\n",
              "\n",
              "    [theme=dark] .colab-df-convert:hover {\n",
              "      background-color: #434B5C;\n",
              "      box-shadow: 0px 1px 3px 1px rgba(0, 0, 0, 0.15);\n",
              "      filter: drop-shadow(0px 1px 2px rgba(0, 0, 0, 0.3));\n",
              "      fill: #FFFFFF;\n",
              "    }\n",
              "  </style>\n",
              "\n",
              "    <script>\n",
              "      const buttonEl =\n",
              "        document.querySelector('#df-6658af0d-8b2a-4ddc-a2a3-2f23b80a210f button.colab-df-convert');\n",
              "      buttonEl.style.display =\n",
              "        google.colab.kernel.accessAllowed ? 'block' : 'none';\n",
              "\n",
              "      async function convertToInteractive(key) {\n",
              "        const element = document.querySelector('#df-6658af0d-8b2a-4ddc-a2a3-2f23b80a210f');\n",
              "        const dataTable =\n",
              "          await google.colab.kernel.invokeFunction('convertToInteractive',\n",
              "                                                    [key], {});\n",
              "        if (!dataTable) return;\n",
              "\n",
              "        const docLinkHtml = 'Like what you see? Visit the ' +\n",
              "          '<a target=\"_blank\" href=https://colab.research.google.com/notebooks/data_table.ipynb>data table notebook</a>'\n",
              "          + ' to learn more about interactive tables.';\n",
              "        element.innerHTML = '';\n",
              "        dataTable['output_type'] = 'display_data';\n",
              "        await google.colab.output.renderOutput(dataTable, element);\n",
              "        const docLink = document.createElement('div');\n",
              "        docLink.innerHTML = docLinkHtml;\n",
              "        element.appendChild(docLink);\n",
              "      }\n",
              "    </script>\n",
              "  </div>\n",
              "\n",
              "\n",
              "<div id=\"df-40802059-5fc1-4dc4-adac-2b27b080c985\">\n",
              "  <button class=\"colab-df-quickchart\" onclick=\"quickchart('df-40802059-5fc1-4dc4-adac-2b27b080c985')\"\n",
              "            title=\"Suggest charts\"\n",
              "            style=\"display:none;\">\n",
              "\n",
              "<svg xmlns=\"http://www.w3.org/2000/svg\" height=\"24px\"viewBox=\"0 0 24 24\"\n",
              "     width=\"24px\">\n",
              "    <g>\n",
              "        <path d=\"M19 3H5c-1.1 0-2 .9-2 2v14c0 1.1.9 2 2 2h14c1.1 0 2-.9 2-2V5c0-1.1-.9-2-2-2zM9 17H7v-7h2v7zm4 0h-2V7h2v10zm4 0h-2v-4h2v4z\"/>\n",
              "    </g>\n",
              "</svg>\n",
              "  </button>\n",
              "\n",
              "<style>\n",
              "  .colab-df-quickchart {\n",
              "      --bg-color: #E8F0FE;\n",
              "      --fill-color: #1967D2;\n",
              "      --hover-bg-color: #E2EBFA;\n",
              "      --hover-fill-color: #174EA6;\n",
              "      --disabled-fill-color: #AAA;\n",
              "      --disabled-bg-color: #DDD;\n",
              "  }\n",
              "\n",
              "  [theme=dark] .colab-df-quickchart {\n",
              "      --bg-color: #3B4455;\n",
              "      --fill-color: #D2E3FC;\n",
              "      --hover-bg-color: #434B5C;\n",
              "      --hover-fill-color: #FFFFFF;\n",
              "      --disabled-bg-color: #3B4455;\n",
              "      --disabled-fill-color: #666;\n",
              "  }\n",
              "\n",
              "  .colab-df-quickchart {\n",
              "    background-color: var(--bg-color);\n",
              "    border: none;\n",
              "    border-radius: 50%;\n",
              "    cursor: pointer;\n",
              "    display: none;\n",
              "    fill: var(--fill-color);\n",
              "    height: 32px;\n",
              "    padding: 0;\n",
              "    width: 32px;\n",
              "  }\n",
              "\n",
              "  .colab-df-quickchart:hover {\n",
              "    background-color: var(--hover-bg-color);\n",
              "    box-shadow: 0 1px 2px rgba(60, 64, 67, 0.3), 0 1px 3px 1px rgba(60, 64, 67, 0.15);\n",
              "    fill: var(--button-hover-fill-color);\n",
              "  }\n",
              "\n",
              "  .colab-df-quickchart-complete:disabled,\n",
              "  .colab-df-quickchart-complete:disabled:hover {\n",
              "    background-color: var(--disabled-bg-color);\n",
              "    fill: var(--disabled-fill-color);\n",
              "    box-shadow: none;\n",
              "  }\n",
              "\n",
              "  .colab-df-spinner {\n",
              "    border: 2px solid var(--fill-color);\n",
              "    border-color: transparent;\n",
              "    border-bottom-color: var(--fill-color);\n",
              "    animation:\n",
              "      spin 1s steps(1) infinite;\n",
              "  }\n",
              "\n",
              "  @keyframes spin {\n",
              "    0% {\n",
              "      border-color: transparent;\n",
              "      border-bottom-color: var(--fill-color);\n",
              "      border-left-color: var(--fill-color);\n",
              "    }\n",
              "    20% {\n",
              "      border-color: transparent;\n",
              "      border-left-color: var(--fill-color);\n",
              "      border-top-color: var(--fill-color);\n",
              "    }\n",
              "    30% {\n",
              "      border-color: transparent;\n",
              "      border-left-color: var(--fill-color);\n",
              "      border-top-color: var(--fill-color);\n",
              "      border-right-color: var(--fill-color);\n",
              "    }\n",
              "    40% {\n",
              "      border-color: transparent;\n",
              "      border-right-color: var(--fill-color);\n",
              "      border-top-color: var(--fill-color);\n",
              "    }\n",
              "    60% {\n",
              "      border-color: transparent;\n",
              "      border-right-color: var(--fill-color);\n",
              "    }\n",
              "    80% {\n",
              "      border-color: transparent;\n",
              "      border-right-color: var(--fill-color);\n",
              "      border-bottom-color: var(--fill-color);\n",
              "    }\n",
              "    90% {\n",
              "      border-color: transparent;\n",
              "      border-bottom-color: var(--fill-color);\n",
              "    }\n",
              "  }\n",
              "</style>\n",
              "\n",
              "  <script>\n",
              "    async function quickchart(key) {\n",
              "      const quickchartButtonEl =\n",
              "        document.querySelector('#' + key + ' button');\n",
              "      quickchartButtonEl.disabled = true;  // To prevent multiple clicks.\n",
              "      quickchartButtonEl.classList.add('colab-df-spinner');\n",
              "      try {\n",
              "        const charts = await google.colab.kernel.invokeFunction(\n",
              "            'suggestCharts', [key], {});\n",
              "      } catch (error) {\n",
              "        console.error('Error during call to suggestCharts:', error);\n",
              "      }\n",
              "      quickchartButtonEl.classList.remove('colab-df-spinner');\n",
              "      quickchartButtonEl.classList.add('colab-df-quickchart-complete');\n",
              "    }\n",
              "    (() => {\n",
              "      let quickchartButtonEl =\n",
              "        document.querySelector('#df-40802059-5fc1-4dc4-adac-2b27b080c985 button');\n",
              "      quickchartButtonEl.style.display =\n",
              "        google.colab.kernel.accessAllowed ? 'block' : 'none';\n",
              "    })();\n",
              "  </script>\n",
              "</div>\n",
              "\n",
              "    </div>\n",
              "  </div>\n"
            ],
            "application/vnd.google.colaboratory.intrinsic+json": {
              "type": "dataframe",
              "variable_name": "data",
              "summary": "{\n  \"name\": \"data\",\n  \"rows\": 5638,\n  \"fields\": [\n    {\n      \"column\": \"Date\",\n      \"properties\": {\n        \"dtype\": \"date\",\n        \"min\": \"2000-01-03 00:00:00\",\n        \"max\": \"2022-05-27 00:00:00\",\n        \"num_unique_values\": 5638,\n        \"samples\": [\n          \"2008-06-16 00:00:00\",\n          \"2006-05-30 00:00:00\",\n          \"2013-11-19 00:00:00\"\n        ],\n        \"semantic_type\": \"\",\n        \"description\": \"\"\n      }\n    },\n    {\n      \"column\": \"Open\",\n      \"properties\": {\n        \"dtype\": \"number\",\n        \"std\": 39.07235397473067,\n        \"min\": 0.23196400701999664,\n        \"max\": 182.6300048828125,\n        \"num_unique_values\": 5147,\n        \"samples\": [\n          2.651071071624756,\n          28.375,\n          1.5660710334777832\n        ],\n        \"semantic_type\": \"\",\n        \"description\": \"\"\n      }\n    },\n    {\n      \"column\": \"High\",\n      \"properties\": {\n        \"dtype\": \"number\",\n        \"std\": 39.53662678196409,\n        \"min\": 0.23553599417209625,\n        \"max\": 182.94000244140625,\n        \"num_unique_values\": 5053,\n        \"samples\": [\n          20.274642944335938,\n          95.375,\n          0.5848209857940674\n        ],\n        \"semantic_type\": \"\",\n        \"description\": \"\"\n      }\n    },\n    {\n      \"column\": \"Low\",\n      \"properties\": {\n        \"dtype\": \"number\",\n        \"std\": 38.615985967148625,\n        \"min\": 0.22714300453662872,\n        \"max\": 179.1199951171875,\n        \"num_unique_values\": 5074,\n        \"samples\": [\n          6.000357151031494,\n          21.64285659790039,\n          0.9899550080299377\n        ],\n        \"semantic_type\": \"\",\n        \"description\": \"\"\n      }\n    },\n    {\n      \"column\": \"Close\",\n      \"properties\": {\n        \"dtype\": \"number\",\n        \"std\": 39.094879080643004,\n        \"min\": 0.23428599536418915,\n        \"max\": 182.00999450683594,\n        \"num_unique_values\": 5153,\n        \"samples\": [\n          52.9375,\n          0.30464300513267517,\n          20.282142639160156\n        ],\n        \"semantic_type\": \"\",\n        \"description\": \"\"\n      }\n    },\n    {\n      \"column\": \"Adj Close\",\n      \"properties\": {\n        \"dtype\": \"number\",\n        \"std\": 38.54385390603682,\n        \"min\": 0.1980777531862259,\n        \"max\": 179.48114013671875,\n        \"num_unique_values\": 5233,\n        \"samples\": [\n          161.1078643798828,\n          2.1015541553497314,\n          0.37758514285087585\n        ],\n        \"semantic_type\": \"\",\n        \"description\": \"\"\n      }\n    },\n    {\n      \"column\": \"Volume\",\n      \"properties\": {\n        \"dtype\": \"number\",\n        \"std\": 388315821,\n        \"min\": 39340000,\n        \"max\": 7421640800,\n        \"num_unique_values\": 5607,\n        \"samples\": [\n          672372400,\n          936112800,\n          159051200\n        ],\n        \"semantic_type\": \"\",\n        \"description\": \"\"\n      }\n    }\n  ]\n}"
            }
          },
          "metadata": {},
          "execution_count": 8
        }
      ]
    },
    {
      "cell_type": "code",
      "source": [
        "data['Next_day'] = data['Close'].shift(-1)\n",
        "data.head()"
      ],
      "metadata": {
        "colab": {
          "base_uri": "https://localhost:8080/",
          "height": 235
        },
        "id": "I-h0l7Qjo50q",
        "outputId": "601dd599-baf2-470e-dcd5-c2d5ddeaed18"
      },
      "execution_count": null,
      "outputs": [
        {
          "output_type": "execute_result",
          "data": {
            "text/plain": [
              "                Open      High       Low     Close  Adj Close     Volume  \\\n",
              "Date                                                                       \n",
              "2000-01-03  0.936384  1.004464  0.907924  0.999442   0.844981  535796800   \n",
              "2000-01-04  0.966518  0.987723  0.903460  0.915179   0.773741  512377600   \n",
              "2000-01-05  0.926339  0.987165  0.919643  0.928571   0.785063  778321600   \n",
              "2000-01-06  0.947545  0.955357  0.848214  0.848214   0.717125  767972800   \n",
              "2000-01-07  0.861607  0.901786  0.852679  0.888393   0.751094  460734400   \n",
              "\n",
              "            Next_day  \n",
              "Date                  \n",
              "2000-01-03  0.915179  \n",
              "2000-01-04  0.928571  \n",
              "2000-01-05  0.848214  \n",
              "2000-01-06  0.888393  \n",
              "2000-01-07  0.872768  "
            ],
            "text/html": [
              "\n",
              "  <div id=\"df-75a54d1b-1c0a-4928-8497-02f5984b2e83\" class=\"colab-df-container\">\n",
              "    <div>\n",
              "<style scoped>\n",
              "    .dataframe tbody tr th:only-of-type {\n",
              "        vertical-align: middle;\n",
              "    }\n",
              "\n",
              "    .dataframe tbody tr th {\n",
              "        vertical-align: top;\n",
              "    }\n",
              "\n",
              "    .dataframe thead th {\n",
              "        text-align: right;\n",
              "    }\n",
              "</style>\n",
              "<table border=\"1\" class=\"dataframe\">\n",
              "  <thead>\n",
              "    <tr style=\"text-align: right;\">\n",
              "      <th></th>\n",
              "      <th>Open</th>\n",
              "      <th>High</th>\n",
              "      <th>Low</th>\n",
              "      <th>Close</th>\n",
              "      <th>Adj Close</th>\n",
              "      <th>Volume</th>\n",
              "      <th>Next_day</th>\n",
              "    </tr>\n",
              "    <tr>\n",
              "      <th>Date</th>\n",
              "      <th></th>\n",
              "      <th></th>\n",
              "      <th></th>\n",
              "      <th></th>\n",
              "      <th></th>\n",
              "      <th></th>\n",
              "      <th></th>\n",
              "    </tr>\n",
              "  </thead>\n",
              "  <tbody>\n",
              "    <tr>\n",
              "      <th>2000-01-03</th>\n",
              "      <td>0.936384</td>\n",
              "      <td>1.004464</td>\n",
              "      <td>0.907924</td>\n",
              "      <td>0.999442</td>\n",
              "      <td>0.844981</td>\n",
              "      <td>535796800</td>\n",
              "      <td>0.915179</td>\n",
              "    </tr>\n",
              "    <tr>\n",
              "      <th>2000-01-04</th>\n",
              "      <td>0.966518</td>\n",
              "      <td>0.987723</td>\n",
              "      <td>0.903460</td>\n",
              "      <td>0.915179</td>\n",
              "      <td>0.773741</td>\n",
              "      <td>512377600</td>\n",
              "      <td>0.928571</td>\n",
              "    </tr>\n",
              "    <tr>\n",
              "      <th>2000-01-05</th>\n",
              "      <td>0.926339</td>\n",
              "      <td>0.987165</td>\n",
              "      <td>0.919643</td>\n",
              "      <td>0.928571</td>\n",
              "      <td>0.785063</td>\n",
              "      <td>778321600</td>\n",
              "      <td>0.848214</td>\n",
              "    </tr>\n",
              "    <tr>\n",
              "      <th>2000-01-06</th>\n",
              "      <td>0.947545</td>\n",
              "      <td>0.955357</td>\n",
              "      <td>0.848214</td>\n",
              "      <td>0.848214</td>\n",
              "      <td>0.717125</td>\n",
              "      <td>767972800</td>\n",
              "      <td>0.888393</td>\n",
              "    </tr>\n",
              "    <tr>\n",
              "      <th>2000-01-07</th>\n",
              "      <td>0.861607</td>\n",
              "      <td>0.901786</td>\n",
              "      <td>0.852679</td>\n",
              "      <td>0.888393</td>\n",
              "      <td>0.751094</td>\n",
              "      <td>460734400</td>\n",
              "      <td>0.872768</td>\n",
              "    </tr>\n",
              "  </tbody>\n",
              "</table>\n",
              "</div>\n",
              "    <div class=\"colab-df-buttons\">\n",
              "\n",
              "  <div class=\"colab-df-container\">\n",
              "    <button class=\"colab-df-convert\" onclick=\"convertToInteractive('df-75a54d1b-1c0a-4928-8497-02f5984b2e83')\"\n",
              "            title=\"Convert this dataframe to an interactive table.\"\n",
              "            style=\"display:none;\">\n",
              "\n",
              "  <svg xmlns=\"http://www.w3.org/2000/svg\" height=\"24px\" viewBox=\"0 -960 960 960\">\n",
              "    <path d=\"M120-120v-720h720v720H120Zm60-500h600v-160H180v160Zm220 220h160v-160H400v160Zm0 220h160v-160H400v160ZM180-400h160v-160H180v160Zm440 0h160v-160H620v160ZM180-180h160v-160H180v160Zm440 0h160v-160H620v160Z\"/>\n",
              "  </svg>\n",
              "    </button>\n",
              "\n",
              "  <style>\n",
              "    .colab-df-container {\n",
              "      display:flex;\n",
              "      gap: 12px;\n",
              "    }\n",
              "\n",
              "    .colab-df-convert {\n",
              "      background-color: #E8F0FE;\n",
              "      border: none;\n",
              "      border-radius: 50%;\n",
              "      cursor: pointer;\n",
              "      display: none;\n",
              "      fill: #1967D2;\n",
              "      height: 32px;\n",
              "      padding: 0 0 0 0;\n",
              "      width: 32px;\n",
              "    }\n",
              "\n",
              "    .colab-df-convert:hover {\n",
              "      background-color: #E2EBFA;\n",
              "      box-shadow: 0px 1px 2px rgba(60, 64, 67, 0.3), 0px 1px 3px 1px rgba(60, 64, 67, 0.15);\n",
              "      fill: #174EA6;\n",
              "    }\n",
              "\n",
              "    .colab-df-buttons div {\n",
              "      margin-bottom: 4px;\n",
              "    }\n",
              "\n",
              "    [theme=dark] .colab-df-convert {\n",
              "      background-color: #3B4455;\n",
              "      fill: #D2E3FC;\n",
              "    }\n",
              "\n",
              "    [theme=dark] .colab-df-convert:hover {\n",
              "      background-color: #434B5C;\n",
              "      box-shadow: 0px 1px 3px 1px rgba(0, 0, 0, 0.15);\n",
              "      filter: drop-shadow(0px 1px 2px rgba(0, 0, 0, 0.3));\n",
              "      fill: #FFFFFF;\n",
              "    }\n",
              "  </style>\n",
              "\n",
              "    <script>\n",
              "      const buttonEl =\n",
              "        document.querySelector('#df-75a54d1b-1c0a-4928-8497-02f5984b2e83 button.colab-df-convert');\n",
              "      buttonEl.style.display =\n",
              "        google.colab.kernel.accessAllowed ? 'block' : 'none';\n",
              "\n",
              "      async function convertToInteractive(key) {\n",
              "        const element = document.querySelector('#df-75a54d1b-1c0a-4928-8497-02f5984b2e83');\n",
              "        const dataTable =\n",
              "          await google.colab.kernel.invokeFunction('convertToInteractive',\n",
              "                                                    [key], {});\n",
              "        if (!dataTable) return;\n",
              "\n",
              "        const docLinkHtml = 'Like what you see? Visit the ' +\n",
              "          '<a target=\"_blank\" href=https://colab.research.google.com/notebooks/data_table.ipynb>data table notebook</a>'\n",
              "          + ' to learn more about interactive tables.';\n",
              "        element.innerHTML = '';\n",
              "        dataTable['output_type'] = 'display_data';\n",
              "        await google.colab.output.renderOutput(dataTable, element);\n",
              "        const docLink = document.createElement('div');\n",
              "        docLink.innerHTML = docLinkHtml;\n",
              "        element.appendChild(docLink);\n",
              "      }\n",
              "    </script>\n",
              "  </div>\n",
              "\n",
              "\n",
              "<div id=\"df-be5c358b-eb84-4757-841c-1745a3284618\">\n",
              "  <button class=\"colab-df-quickchart\" onclick=\"quickchart('df-be5c358b-eb84-4757-841c-1745a3284618')\"\n",
              "            title=\"Suggest charts\"\n",
              "            style=\"display:none;\">\n",
              "\n",
              "<svg xmlns=\"http://www.w3.org/2000/svg\" height=\"24px\"viewBox=\"0 0 24 24\"\n",
              "     width=\"24px\">\n",
              "    <g>\n",
              "        <path d=\"M19 3H5c-1.1 0-2 .9-2 2v14c0 1.1.9 2 2 2h14c1.1 0 2-.9 2-2V5c0-1.1-.9-2-2-2zM9 17H7v-7h2v7zm4 0h-2V7h2v10zm4 0h-2v-4h2v4z\"/>\n",
              "    </g>\n",
              "</svg>\n",
              "  </button>\n",
              "\n",
              "<style>\n",
              "  .colab-df-quickchart {\n",
              "      --bg-color: #E8F0FE;\n",
              "      --fill-color: #1967D2;\n",
              "      --hover-bg-color: #E2EBFA;\n",
              "      --hover-fill-color: #174EA6;\n",
              "      --disabled-fill-color: #AAA;\n",
              "      --disabled-bg-color: #DDD;\n",
              "  }\n",
              "\n",
              "  [theme=dark] .colab-df-quickchart {\n",
              "      --bg-color: #3B4455;\n",
              "      --fill-color: #D2E3FC;\n",
              "      --hover-bg-color: #434B5C;\n",
              "      --hover-fill-color: #FFFFFF;\n",
              "      --disabled-bg-color: #3B4455;\n",
              "      --disabled-fill-color: #666;\n",
              "  }\n",
              "\n",
              "  .colab-df-quickchart {\n",
              "    background-color: var(--bg-color);\n",
              "    border: none;\n",
              "    border-radius: 50%;\n",
              "    cursor: pointer;\n",
              "    display: none;\n",
              "    fill: var(--fill-color);\n",
              "    height: 32px;\n",
              "    padding: 0;\n",
              "    width: 32px;\n",
              "  }\n",
              "\n",
              "  .colab-df-quickchart:hover {\n",
              "    background-color: var(--hover-bg-color);\n",
              "    box-shadow: 0 1px 2px rgba(60, 64, 67, 0.3), 0 1px 3px 1px rgba(60, 64, 67, 0.15);\n",
              "    fill: var(--button-hover-fill-color);\n",
              "  }\n",
              "\n",
              "  .colab-df-quickchart-complete:disabled,\n",
              "  .colab-df-quickchart-complete:disabled:hover {\n",
              "    background-color: var(--disabled-bg-color);\n",
              "    fill: var(--disabled-fill-color);\n",
              "    box-shadow: none;\n",
              "  }\n",
              "\n",
              "  .colab-df-spinner {\n",
              "    border: 2px solid var(--fill-color);\n",
              "    border-color: transparent;\n",
              "    border-bottom-color: var(--fill-color);\n",
              "    animation:\n",
              "      spin 1s steps(1) infinite;\n",
              "  }\n",
              "\n",
              "  @keyframes spin {\n",
              "    0% {\n",
              "      border-color: transparent;\n",
              "      border-bottom-color: var(--fill-color);\n",
              "      border-left-color: var(--fill-color);\n",
              "    }\n",
              "    20% {\n",
              "      border-color: transparent;\n",
              "      border-left-color: var(--fill-color);\n",
              "      border-top-color: var(--fill-color);\n",
              "    }\n",
              "    30% {\n",
              "      border-color: transparent;\n",
              "      border-left-color: var(--fill-color);\n",
              "      border-top-color: var(--fill-color);\n",
              "      border-right-color: var(--fill-color);\n",
              "    }\n",
              "    40% {\n",
              "      border-color: transparent;\n",
              "      border-right-color: var(--fill-color);\n",
              "      border-top-color: var(--fill-color);\n",
              "    }\n",
              "    60% {\n",
              "      border-color: transparent;\n",
              "      border-right-color: var(--fill-color);\n",
              "    }\n",
              "    80% {\n",
              "      border-color: transparent;\n",
              "      border-right-color: var(--fill-color);\n",
              "      border-bottom-color: var(--fill-color);\n",
              "    }\n",
              "    90% {\n",
              "      border-color: transparent;\n",
              "      border-bottom-color: var(--fill-color);\n",
              "    }\n",
              "  }\n",
              "</style>\n",
              "\n",
              "  <script>\n",
              "    async function quickchart(key) {\n",
              "      const quickchartButtonEl =\n",
              "        document.querySelector('#' + key + ' button');\n",
              "      quickchartButtonEl.disabled = true;  // To prevent multiple clicks.\n",
              "      quickchartButtonEl.classList.add('colab-df-spinner');\n",
              "      try {\n",
              "        const charts = await google.colab.kernel.invokeFunction(\n",
              "            'suggestCharts', [key], {});\n",
              "      } catch (error) {\n",
              "        console.error('Error during call to suggestCharts:', error);\n",
              "      }\n",
              "      quickchartButtonEl.classList.remove('colab-df-spinner');\n",
              "      quickchartButtonEl.classList.add('colab-df-quickchart-complete');\n",
              "    }\n",
              "    (() => {\n",
              "      let quickchartButtonEl =\n",
              "        document.querySelector('#df-be5c358b-eb84-4757-841c-1745a3284618 button');\n",
              "      quickchartButtonEl.style.display =\n",
              "        google.colab.kernel.accessAllowed ? 'block' : 'none';\n",
              "    })();\n",
              "  </script>\n",
              "</div>\n",
              "\n",
              "    </div>\n",
              "  </div>\n"
            ],
            "application/vnd.google.colaboratory.intrinsic+json": {
              "type": "dataframe",
              "variable_name": "data",
              "summary": "{\n  \"name\": \"data\",\n  \"rows\": 5638,\n  \"fields\": [\n    {\n      \"column\": \"Date\",\n      \"properties\": {\n        \"dtype\": \"date\",\n        \"min\": \"2000-01-03 00:00:00\",\n        \"max\": \"2022-05-27 00:00:00\",\n        \"num_unique_values\": 5638,\n        \"samples\": [\n          \"2008-06-16 00:00:00\",\n          \"2006-05-30 00:00:00\",\n          \"2013-11-19 00:00:00\"\n        ],\n        \"semantic_type\": \"\",\n        \"description\": \"\"\n      }\n    },\n    {\n      \"column\": \"Open\",\n      \"properties\": {\n        \"dtype\": \"number\",\n        \"std\": 39.07235397473067,\n        \"min\": 0.23196400701999664,\n        \"max\": 182.6300048828125,\n        \"num_unique_values\": 5147,\n        \"samples\": [\n          2.651071071624756,\n          28.375,\n          1.5660710334777832\n        ],\n        \"semantic_type\": \"\",\n        \"description\": \"\"\n      }\n    },\n    {\n      \"column\": \"High\",\n      \"properties\": {\n        \"dtype\": \"number\",\n        \"std\": 39.53662678196409,\n        \"min\": 0.23553599417209625,\n        \"max\": 182.94000244140625,\n        \"num_unique_values\": 5053,\n        \"samples\": [\n          20.274642944335938,\n          95.375,\n          0.5848209857940674\n        ],\n        \"semantic_type\": \"\",\n        \"description\": \"\"\n      }\n    },\n    {\n      \"column\": \"Low\",\n      \"properties\": {\n        \"dtype\": \"number\",\n        \"std\": 38.615985967148625,\n        \"min\": 0.22714300453662872,\n        \"max\": 179.1199951171875,\n        \"num_unique_values\": 5074,\n        \"samples\": [\n          6.000357151031494,\n          21.64285659790039,\n          0.9899550080299377\n        ],\n        \"semantic_type\": \"\",\n        \"description\": \"\"\n      }\n    },\n    {\n      \"column\": \"Close\",\n      \"properties\": {\n        \"dtype\": \"number\",\n        \"std\": 39.094879080643004,\n        \"min\": 0.23428599536418915,\n        \"max\": 182.00999450683594,\n        \"num_unique_values\": 5153,\n        \"samples\": [\n          52.9375,\n          0.30464300513267517,\n          20.282142639160156\n        ],\n        \"semantic_type\": \"\",\n        \"description\": \"\"\n      }\n    },\n    {\n      \"column\": \"Adj Close\",\n      \"properties\": {\n        \"dtype\": \"number\",\n        \"std\": 38.54385390603682,\n        \"min\": 0.1980777531862259,\n        \"max\": 179.48114013671875,\n        \"num_unique_values\": 5233,\n        \"samples\": [\n          161.1078643798828,\n          2.1015541553497314,\n          0.37758514285087585\n        ],\n        \"semantic_type\": \"\",\n        \"description\": \"\"\n      }\n    },\n    {\n      \"column\": \"Volume\",\n      \"properties\": {\n        \"dtype\": \"number\",\n        \"std\": 388315821,\n        \"min\": 39340000,\n        \"max\": 7421640800,\n        \"num_unique_values\": 5607,\n        \"samples\": [\n          672372400,\n          936112800,\n          159051200\n        ],\n        \"semantic_type\": \"\",\n        \"description\": \"\"\n      }\n    },\n    {\n      \"column\": \"Next_day\",\n      \"properties\": {\n        \"dtype\": \"number\",\n        \"std\": 39.09683391954587,\n        \"min\": 0.23428599536418915,\n        \"max\": 182.00999450683594,\n        \"num_unique_values\": 5152,\n        \"samples\": [\n          3.9639289379119873,\n          3.132857084274292,\n          15.222857475280762\n        ],\n        \"semantic_type\": \"\",\n        \"description\": \"\"\n      }\n    }\n  ]\n}"
            }
          },
          "metadata": {},
          "execution_count": 9
        }
      ]
    },
    {
      "cell_type": "markdown",
      "source": [
        "#### Lets make this a classification task"
      ],
      "metadata": {
        "id": "yQgxmIl56to4"
      }
    },
    {
      "cell_type": "code",
      "source": [
        "# If the price next day was greater than previous day, we flag it as 1\n",
        "data['Target'] = (data['Next_day'] > data['Close']).astype(int)\n",
        "data.head()"
      ],
      "metadata": {
        "colab": {
          "base_uri": "https://localhost:8080/",
          "height": 235
        },
        "id": "0DByjVifo7tj",
        "outputId": "3b4e4748-f3af-46b4-d2cc-c9c550390322"
      },
      "execution_count": null,
      "outputs": [
        {
          "output_type": "execute_result",
          "data": {
            "text/plain": [
              "                Open      High       Low     Close  Adj Close     Volume  \\\n",
              "Date                                                                       \n",
              "2000-01-03  0.936384  1.004464  0.907924  0.999442   0.844981  535796800   \n",
              "2000-01-04  0.966518  0.987723  0.903460  0.915179   0.773741  512377600   \n",
              "2000-01-05  0.926339  0.987165  0.919643  0.928571   0.785063  778321600   \n",
              "2000-01-06  0.947545  0.955357  0.848214  0.848214   0.717125  767972800   \n",
              "2000-01-07  0.861607  0.901786  0.852679  0.888393   0.751094  460734400   \n",
              "\n",
              "            Next_day  Target  \n",
              "Date                          \n",
              "2000-01-03  0.915179       0  \n",
              "2000-01-04  0.928571       1  \n",
              "2000-01-05  0.848214       0  \n",
              "2000-01-06  0.888393       1  \n",
              "2000-01-07  0.872768       0  "
            ],
            "text/html": [
              "\n",
              "  <div id=\"df-605b5ea8-b4ab-4087-ba74-b08221bfba7e\" class=\"colab-df-container\">\n",
              "    <div>\n",
              "<style scoped>\n",
              "    .dataframe tbody tr th:only-of-type {\n",
              "        vertical-align: middle;\n",
              "    }\n",
              "\n",
              "    .dataframe tbody tr th {\n",
              "        vertical-align: top;\n",
              "    }\n",
              "\n",
              "    .dataframe thead th {\n",
              "        text-align: right;\n",
              "    }\n",
              "</style>\n",
              "<table border=\"1\" class=\"dataframe\">\n",
              "  <thead>\n",
              "    <tr style=\"text-align: right;\">\n",
              "      <th></th>\n",
              "      <th>Open</th>\n",
              "      <th>High</th>\n",
              "      <th>Low</th>\n",
              "      <th>Close</th>\n",
              "      <th>Adj Close</th>\n",
              "      <th>Volume</th>\n",
              "      <th>Next_day</th>\n",
              "      <th>Target</th>\n",
              "    </tr>\n",
              "    <tr>\n",
              "      <th>Date</th>\n",
              "      <th></th>\n",
              "      <th></th>\n",
              "      <th></th>\n",
              "      <th></th>\n",
              "      <th></th>\n",
              "      <th></th>\n",
              "      <th></th>\n",
              "      <th></th>\n",
              "    </tr>\n",
              "  </thead>\n",
              "  <tbody>\n",
              "    <tr>\n",
              "      <th>2000-01-03</th>\n",
              "      <td>0.936384</td>\n",
              "      <td>1.004464</td>\n",
              "      <td>0.907924</td>\n",
              "      <td>0.999442</td>\n",
              "      <td>0.844981</td>\n",
              "      <td>535796800</td>\n",
              "      <td>0.915179</td>\n",
              "      <td>0</td>\n",
              "    </tr>\n",
              "    <tr>\n",
              "      <th>2000-01-04</th>\n",
              "      <td>0.966518</td>\n",
              "      <td>0.987723</td>\n",
              "      <td>0.903460</td>\n",
              "      <td>0.915179</td>\n",
              "      <td>0.773741</td>\n",
              "      <td>512377600</td>\n",
              "      <td>0.928571</td>\n",
              "      <td>1</td>\n",
              "    </tr>\n",
              "    <tr>\n",
              "      <th>2000-01-05</th>\n",
              "      <td>0.926339</td>\n",
              "      <td>0.987165</td>\n",
              "      <td>0.919643</td>\n",
              "      <td>0.928571</td>\n",
              "      <td>0.785063</td>\n",
              "      <td>778321600</td>\n",
              "      <td>0.848214</td>\n",
              "      <td>0</td>\n",
              "    </tr>\n",
              "    <tr>\n",
              "      <th>2000-01-06</th>\n",
              "      <td>0.947545</td>\n",
              "      <td>0.955357</td>\n",
              "      <td>0.848214</td>\n",
              "      <td>0.848214</td>\n",
              "      <td>0.717125</td>\n",
              "      <td>767972800</td>\n",
              "      <td>0.888393</td>\n",
              "      <td>1</td>\n",
              "    </tr>\n",
              "    <tr>\n",
              "      <th>2000-01-07</th>\n",
              "      <td>0.861607</td>\n",
              "      <td>0.901786</td>\n",
              "      <td>0.852679</td>\n",
              "      <td>0.888393</td>\n",
              "      <td>0.751094</td>\n",
              "      <td>460734400</td>\n",
              "      <td>0.872768</td>\n",
              "      <td>0</td>\n",
              "    </tr>\n",
              "  </tbody>\n",
              "</table>\n",
              "</div>\n",
              "    <div class=\"colab-df-buttons\">\n",
              "\n",
              "  <div class=\"colab-df-container\">\n",
              "    <button class=\"colab-df-convert\" onclick=\"convertToInteractive('df-605b5ea8-b4ab-4087-ba74-b08221bfba7e')\"\n",
              "            title=\"Convert this dataframe to an interactive table.\"\n",
              "            style=\"display:none;\">\n",
              "\n",
              "  <svg xmlns=\"http://www.w3.org/2000/svg\" height=\"24px\" viewBox=\"0 -960 960 960\">\n",
              "    <path d=\"M120-120v-720h720v720H120Zm60-500h600v-160H180v160Zm220 220h160v-160H400v160Zm0 220h160v-160H400v160ZM180-400h160v-160H180v160Zm440 0h160v-160H620v160ZM180-180h160v-160H180v160Zm440 0h160v-160H620v160Z\"/>\n",
              "  </svg>\n",
              "    </button>\n",
              "\n",
              "  <style>\n",
              "    .colab-df-container {\n",
              "      display:flex;\n",
              "      gap: 12px;\n",
              "    }\n",
              "\n",
              "    .colab-df-convert {\n",
              "      background-color: #E8F0FE;\n",
              "      border: none;\n",
              "      border-radius: 50%;\n",
              "      cursor: pointer;\n",
              "      display: none;\n",
              "      fill: #1967D2;\n",
              "      height: 32px;\n",
              "      padding: 0 0 0 0;\n",
              "      width: 32px;\n",
              "    }\n",
              "\n",
              "    .colab-df-convert:hover {\n",
              "      background-color: #E2EBFA;\n",
              "      box-shadow: 0px 1px 2px rgba(60, 64, 67, 0.3), 0px 1px 3px 1px rgba(60, 64, 67, 0.15);\n",
              "      fill: #174EA6;\n",
              "    }\n",
              "\n",
              "    .colab-df-buttons div {\n",
              "      margin-bottom: 4px;\n",
              "    }\n",
              "\n",
              "    [theme=dark] .colab-df-convert {\n",
              "      background-color: #3B4455;\n",
              "      fill: #D2E3FC;\n",
              "    }\n",
              "\n",
              "    [theme=dark] .colab-df-convert:hover {\n",
              "      background-color: #434B5C;\n",
              "      box-shadow: 0px 1px 3px 1px rgba(0, 0, 0, 0.15);\n",
              "      filter: drop-shadow(0px 1px 2px rgba(0, 0, 0, 0.3));\n",
              "      fill: #FFFFFF;\n",
              "    }\n",
              "  </style>\n",
              "\n",
              "    <script>\n",
              "      const buttonEl =\n",
              "        document.querySelector('#df-605b5ea8-b4ab-4087-ba74-b08221bfba7e button.colab-df-convert');\n",
              "      buttonEl.style.display =\n",
              "        google.colab.kernel.accessAllowed ? 'block' : 'none';\n",
              "\n",
              "      async function convertToInteractive(key) {\n",
              "        const element = document.querySelector('#df-605b5ea8-b4ab-4087-ba74-b08221bfba7e');\n",
              "        const dataTable =\n",
              "          await google.colab.kernel.invokeFunction('convertToInteractive',\n",
              "                                                    [key], {});\n",
              "        if (!dataTable) return;\n",
              "\n",
              "        const docLinkHtml = 'Like what you see? Visit the ' +\n",
              "          '<a target=\"_blank\" href=https://colab.research.google.com/notebooks/data_table.ipynb>data table notebook</a>'\n",
              "          + ' to learn more about interactive tables.';\n",
              "        element.innerHTML = '';\n",
              "        dataTable['output_type'] = 'display_data';\n",
              "        await google.colab.output.renderOutput(dataTable, element);\n",
              "        const docLink = document.createElement('div');\n",
              "        docLink.innerHTML = docLinkHtml;\n",
              "        element.appendChild(docLink);\n",
              "      }\n",
              "    </script>\n",
              "  </div>\n",
              "\n",
              "\n",
              "<div id=\"df-e931e540-e001-422f-8486-5c115d211290\">\n",
              "  <button class=\"colab-df-quickchart\" onclick=\"quickchart('df-e931e540-e001-422f-8486-5c115d211290')\"\n",
              "            title=\"Suggest charts\"\n",
              "            style=\"display:none;\">\n",
              "\n",
              "<svg xmlns=\"http://www.w3.org/2000/svg\" height=\"24px\"viewBox=\"0 0 24 24\"\n",
              "     width=\"24px\">\n",
              "    <g>\n",
              "        <path d=\"M19 3H5c-1.1 0-2 .9-2 2v14c0 1.1.9 2 2 2h14c1.1 0 2-.9 2-2V5c0-1.1-.9-2-2-2zM9 17H7v-7h2v7zm4 0h-2V7h2v10zm4 0h-2v-4h2v4z\"/>\n",
              "    </g>\n",
              "</svg>\n",
              "  </button>\n",
              "\n",
              "<style>\n",
              "  .colab-df-quickchart {\n",
              "      --bg-color: #E8F0FE;\n",
              "      --fill-color: #1967D2;\n",
              "      --hover-bg-color: #E2EBFA;\n",
              "      --hover-fill-color: #174EA6;\n",
              "      --disabled-fill-color: #AAA;\n",
              "      --disabled-bg-color: #DDD;\n",
              "  }\n",
              "\n",
              "  [theme=dark] .colab-df-quickchart {\n",
              "      --bg-color: #3B4455;\n",
              "      --fill-color: #D2E3FC;\n",
              "      --hover-bg-color: #434B5C;\n",
              "      --hover-fill-color: #FFFFFF;\n",
              "      --disabled-bg-color: #3B4455;\n",
              "      --disabled-fill-color: #666;\n",
              "  }\n",
              "\n",
              "  .colab-df-quickchart {\n",
              "    background-color: var(--bg-color);\n",
              "    border: none;\n",
              "    border-radius: 50%;\n",
              "    cursor: pointer;\n",
              "    display: none;\n",
              "    fill: var(--fill-color);\n",
              "    height: 32px;\n",
              "    padding: 0;\n",
              "    width: 32px;\n",
              "  }\n",
              "\n",
              "  .colab-df-quickchart:hover {\n",
              "    background-color: var(--hover-bg-color);\n",
              "    box-shadow: 0 1px 2px rgba(60, 64, 67, 0.3), 0 1px 3px 1px rgba(60, 64, 67, 0.15);\n",
              "    fill: var(--button-hover-fill-color);\n",
              "  }\n",
              "\n",
              "  .colab-df-quickchart-complete:disabled,\n",
              "  .colab-df-quickchart-complete:disabled:hover {\n",
              "    background-color: var(--disabled-bg-color);\n",
              "    fill: var(--disabled-fill-color);\n",
              "    box-shadow: none;\n",
              "  }\n",
              "\n",
              "  .colab-df-spinner {\n",
              "    border: 2px solid var(--fill-color);\n",
              "    border-color: transparent;\n",
              "    border-bottom-color: var(--fill-color);\n",
              "    animation:\n",
              "      spin 1s steps(1) infinite;\n",
              "  }\n",
              "\n",
              "  @keyframes spin {\n",
              "    0% {\n",
              "      border-color: transparent;\n",
              "      border-bottom-color: var(--fill-color);\n",
              "      border-left-color: var(--fill-color);\n",
              "    }\n",
              "    20% {\n",
              "      border-color: transparent;\n",
              "      border-left-color: var(--fill-color);\n",
              "      border-top-color: var(--fill-color);\n",
              "    }\n",
              "    30% {\n",
              "      border-color: transparent;\n",
              "      border-left-color: var(--fill-color);\n",
              "      border-top-color: var(--fill-color);\n",
              "      border-right-color: var(--fill-color);\n",
              "    }\n",
              "    40% {\n",
              "      border-color: transparent;\n",
              "      border-right-color: var(--fill-color);\n",
              "      border-top-color: var(--fill-color);\n",
              "    }\n",
              "    60% {\n",
              "      border-color: transparent;\n",
              "      border-right-color: var(--fill-color);\n",
              "    }\n",
              "    80% {\n",
              "      border-color: transparent;\n",
              "      border-right-color: var(--fill-color);\n",
              "      border-bottom-color: var(--fill-color);\n",
              "    }\n",
              "    90% {\n",
              "      border-color: transparent;\n",
              "      border-bottom-color: var(--fill-color);\n",
              "    }\n",
              "  }\n",
              "</style>\n",
              "\n",
              "  <script>\n",
              "    async function quickchart(key) {\n",
              "      const quickchartButtonEl =\n",
              "        document.querySelector('#' + key + ' button');\n",
              "      quickchartButtonEl.disabled = true;  // To prevent multiple clicks.\n",
              "      quickchartButtonEl.classList.add('colab-df-spinner');\n",
              "      try {\n",
              "        const charts = await google.colab.kernel.invokeFunction(\n",
              "            'suggestCharts', [key], {});\n",
              "      } catch (error) {\n",
              "        console.error('Error during call to suggestCharts:', error);\n",
              "      }\n",
              "      quickchartButtonEl.classList.remove('colab-df-spinner');\n",
              "      quickchartButtonEl.classList.add('colab-df-quickchart-complete');\n",
              "    }\n",
              "    (() => {\n",
              "      let quickchartButtonEl =\n",
              "        document.querySelector('#df-e931e540-e001-422f-8486-5c115d211290 button');\n",
              "      quickchartButtonEl.style.display =\n",
              "        google.colab.kernel.accessAllowed ? 'block' : 'none';\n",
              "    })();\n",
              "  </script>\n",
              "</div>\n",
              "\n",
              "    </div>\n",
              "  </div>\n"
            ],
            "application/vnd.google.colaboratory.intrinsic+json": {
              "type": "dataframe",
              "variable_name": "data",
              "summary": "{\n  \"name\": \"data\",\n  \"rows\": 5638,\n  \"fields\": [\n    {\n      \"column\": \"Date\",\n      \"properties\": {\n        \"dtype\": \"date\",\n        \"min\": \"2000-01-03 00:00:00\",\n        \"max\": \"2022-05-27 00:00:00\",\n        \"num_unique_values\": 5638,\n        \"samples\": [\n          \"2008-06-16 00:00:00\",\n          \"2006-05-30 00:00:00\",\n          \"2013-11-19 00:00:00\"\n        ],\n        \"semantic_type\": \"\",\n        \"description\": \"\"\n      }\n    },\n    {\n      \"column\": \"Open\",\n      \"properties\": {\n        \"dtype\": \"number\",\n        \"std\": 39.07235397473067,\n        \"min\": 0.23196400701999664,\n        \"max\": 182.6300048828125,\n        \"num_unique_values\": 5147,\n        \"samples\": [\n          2.651071071624756,\n          28.375,\n          1.5660710334777832\n        ],\n        \"semantic_type\": \"\",\n        \"description\": \"\"\n      }\n    },\n    {\n      \"column\": \"High\",\n      \"properties\": {\n        \"dtype\": \"number\",\n        \"std\": 39.53662678196409,\n        \"min\": 0.23553599417209625,\n        \"max\": 182.94000244140625,\n        \"num_unique_values\": 5053,\n        \"samples\": [\n          20.274642944335938,\n          95.375,\n          0.5848209857940674\n        ],\n        \"semantic_type\": \"\",\n        \"description\": \"\"\n      }\n    },\n    {\n      \"column\": \"Low\",\n      \"properties\": {\n        \"dtype\": \"number\",\n        \"std\": 38.615985967148625,\n        \"min\": 0.22714300453662872,\n        \"max\": 179.1199951171875,\n        \"num_unique_values\": 5074,\n        \"samples\": [\n          6.000357151031494,\n          21.64285659790039,\n          0.9899550080299377\n        ],\n        \"semantic_type\": \"\",\n        \"description\": \"\"\n      }\n    },\n    {\n      \"column\": \"Close\",\n      \"properties\": {\n        \"dtype\": \"number\",\n        \"std\": 39.094879080643004,\n        \"min\": 0.23428599536418915,\n        \"max\": 182.00999450683594,\n        \"num_unique_values\": 5153,\n        \"samples\": [\n          52.9375,\n          0.30464300513267517,\n          20.282142639160156\n        ],\n        \"semantic_type\": \"\",\n        \"description\": \"\"\n      }\n    },\n    {\n      \"column\": \"Adj Close\",\n      \"properties\": {\n        \"dtype\": \"number\",\n        \"std\": 38.54385390603682,\n        \"min\": 0.1980777531862259,\n        \"max\": 179.48114013671875,\n        \"num_unique_values\": 5233,\n        \"samples\": [\n          161.1078643798828,\n          2.1015541553497314,\n          0.37758514285087585\n        ],\n        \"semantic_type\": \"\",\n        \"description\": \"\"\n      }\n    },\n    {\n      \"column\": \"Volume\",\n      \"properties\": {\n        \"dtype\": \"number\",\n        \"std\": 388315821,\n        \"min\": 39340000,\n        \"max\": 7421640800,\n        \"num_unique_values\": 5607,\n        \"samples\": [\n          672372400,\n          936112800,\n          159051200\n        ],\n        \"semantic_type\": \"\",\n        \"description\": \"\"\n      }\n    },\n    {\n      \"column\": \"Next_day\",\n      \"properties\": {\n        \"dtype\": \"number\",\n        \"std\": 39.09683391954587,\n        \"min\": 0.23428599536418915,\n        \"max\": 182.00999450683594,\n        \"num_unique_values\": 5152,\n        \"samples\": [\n          3.9639289379119873,\n          3.132857084274292,\n          15.222857475280762\n        ],\n        \"semantic_type\": \"\",\n        \"description\": \"\"\n      }\n    },\n    {\n      \"column\": \"Target\",\n      \"properties\": {\n        \"dtype\": \"number\",\n        \"std\": 0,\n        \"min\": 0,\n        \"max\": 1,\n        \"num_unique_values\": 2,\n        \"samples\": [\n          1,\n          0\n        ],\n        \"semantic_type\": \"\",\n        \"description\": \"\"\n      }\n    }\n  ]\n}"
            }
          },
          "metadata": {},
          "execution_count": 10
        }
      ]
    },
    {
      "source": [
        "# Let's check the trend\n",
        "from matplotlib import pyplot as plt\n",
        "data['Close'].plot(kind='line', figsize=(8, 4), title='line Plot')\n",
        "plt.gca().spines[['top', 'right']].set_visible(False)"
      ],
      "cell_type": "code",
      "execution_count": null,
      "outputs": [
        {
          "output_type": "display_data",
          "data": {
            "text/plain": [
              "<Figure size 800x400 with 1 Axes>"
            ],
            "image/png": "[encoded data removed]"
          },
          "metadata": {}
        }
      ],
      "metadata": {
        "colab": {
          "base_uri": "https://localhost:8080/",
          "height": 390
        },
        "id": "_TMbxG0p7Uvx",
        "outputId": "d2bb028a-0d71-4fa4-91e6-6b1c1c202a58"
      }
    },
    {
      "cell_type": "markdown",
      "source": [
        "### Let's train a XGBoost Model"
      ],
      "metadata": {
        "id": "_vk31PK58T2L"
      }
    },
    {
      "cell_type": "code",
      "source": [
        "# Train test split. Note, this is a time series data.\n",
        "train = data.iloc[:-30]\n",
        "test = data.iloc[-30:]\n",
        "\n",
        "# Be carefull not to use the next_day feature\n",
        "features = ['Open', 'High', 'Low', 'Close', 'Volume']"
      ],
      "metadata": {
        "id": "szgaofGf9HdB"
      },
      "execution_count": null,
      "outputs": []
    },
    {
      "cell_type": "code",
      "source": [
        "from xgboost import XGBClassifier"
      ],
      "metadata": {
        "id": "1RbEZcTt63-M"
      },
      "execution_count": null,
      "outputs": []
    },
    {
      "cell_type": "code",
      "source": [
        "# Instantiate a model\n",
        "model1 = XGBClassifier(max_depth=3, n_estimators=100, random_state=42)"
      ],
      "metadata": {
        "id": "JHaRcgYt8Lkb"
      },
      "execution_count": null,
      "outputs": []
    },
    {
      "cell_type": "code",
      "source": [
        "# Train the baseline model\n",
        "model1.fit(train[features], train['Target'])"
      ],
      "metadata": {
        "colab": {
          "base_uri": "https://localhost:8080/",
          "height": 244
        },
        "id": "7g2MY9Mm9Gj2",
        "outputId": "169cbb71-a42c-4147-b30d-048d21c8d189"
      },
      "execution_count": null,
      "outputs": [
        {
          "output_type": "execute_result",
          "data": {
            "text/plain": [
              "XGBClassifier(base_score=None, booster=None, callbacks=None,\n",
              "              colsample_bylevel=None, colsample_bynode=None,\n",
              "              colsample_bytree=None, device=None, early_stopping_rounds=None,\n",
              "              enable_categorical=False, eval_metric=None, feature_types=None,\n",
              "              gamma=None, grow_policy=None, importance_type=None,\n",
              "              interaction_constraints=None, learning_rate=None, max_bin=None,\n",
              "              max_cat_threshold=None, max_cat_to_onehot=None,\n",
              "              max_delta_step=None, max_depth=3, max_leaves=None,\n",
              "              min_child_weight=None, missing=nan, monotone_constraints=None,\n",
              "              multi_strategy=None, n_estimators=100, n_jobs=None,\n",
              "              num_parallel_tree=None, random_state=42, ...)"
            ],
            "text/html": [
              "<style>#sk-container-id-1 {color: black;background-color: white;}#sk-container-id-1 pre{padding: 0;}#sk-container-id-1 div.sk-toggleable {background-color: white;}#sk-container-id-1 label.sk-toggleable__label {cursor: pointer;display: block;width: 100%;margin-bottom: 0;padding: 0.3em;box-sizing: border-box;text-align: center;}#sk-container-id-1 label.sk-toggleable__label-arrow:before {content: \"▸\";float: left;margin-right: 0.25em;color: #696969;}#sk-container-id-1 label.sk-toggleable__label-arrow:hover:before {color: black;}#sk-container-id-1 div.sk-estimator:hover label.sk-toggleable__label-arrow:before {color: black;}#sk-container-id-1 div.sk-toggleable__content {max-height: 0;max-width: 0;overflow: hidden;text-align: left;background-color: #f0f8ff;}#sk-container-id-1 div.sk-toggleable__content pre {margin: 0.2em;color: black;border-radius: 0.25em;background-color: #f0f8ff;}#sk-container-id-1 input.sk-toggleable__control:checked~div.sk-toggleable__content {max-height: 200px;max-width: 100%;overflow: auto;}#sk-container-id-1 input.sk-toggleable__control:checked~label.sk-toggleable__label-arrow:before {content: \"▾\";}#sk-container-id-1 div.sk-estimator input.sk-toggleable__control:checked~label.sk-toggleable__label {background-color: #d4ebff;}#sk-container-id-1 div.sk-label input.sk-toggleable__control:checked~label.sk-toggleable__label {background-color: #d4ebff;}#sk-container-id-1 input.sk-hidden--visually {border: 0;clip: rect(1px 1px 1px 1px);clip: rect(1px, 1px, 1px, 1px);height: 1px;margin: -1px;overflow: hidden;padding: 0;position: absolute;width: 1px;}#sk-container-id-1 div.sk-estimator {font-family: monospace;background-color: #f0f8ff;border: 1px dotted black;border-radius: 0.25em;box-sizing: border-box;margin-bottom: 0.5em;}#sk-container-id-1 div.sk-estimator:hover {background-color: #d4ebff;}#sk-container-id-1 div.sk-parallel-item::after {content: \"\";width: 100%;border-bottom: 1px solid gray;flex-grow: 1;}#sk-container-id-1 div.sk-label:hover label.sk-toggleable__label {background-color: #d4ebff;}#sk-container-id-1 div.sk-serial::before {content: \"\";position: absolute;border-left: 1px solid gray;box-sizing: border-box;top: 0;bottom: 0;left: 50%;z-index: 0;}#sk-container-id-1 div.sk-serial {display: flex;flex-direction: column;align-items: center;background-color: white;padding-right: 0.2em;padding-left: 0.2em;position: relative;}#sk-container-id-1 div.sk-item {position: relative;z-index: 1;}#sk-container-id-1 div.sk-parallel {display: flex;align-items: stretch;justify-content: center;background-color: white;position: relative;}#sk-container-id-1 div.sk-item::before, #sk-container-id-1 div.sk-parallel-item::before {content: \"\";position: absolute;border-left: 1px solid gray;box-sizing: border-box;top: 0;bottom: 0;left: 50%;z-index: -1;}#sk-container-id-1 div.sk-parallel-item {display: flex;flex-direction: column;z-index: 1;position: relative;background-color: white;}#sk-container-id-1 div.sk-parallel-item:first-child::after {align-self: flex-end;width: 50%;}#sk-container-id-1 div.sk-parallel-item:last-child::after {align-self: flex-start;width: 50%;}#sk-container-id-1 div.sk-parallel-item:only-child::after {width: 0;}#sk-container-id-1 div.sk-dashed-wrapped {border: 1px dashed gray;margin: 0 0.4em 0.5em 0.4em;box-sizing: border-box;padding-bottom: 0.4em;background-color: white;}#sk-container-id-1 div.sk-label label {font-family: monospace;font-weight: bold;display: inline-block;line-height: 1.2em;}#sk-container-id-1 div.sk-label-container {text-align: center;}#sk-container-id-1 div.sk-container {/* jupyter's `normalize.less` sets `[hidden] { display: none; }` but bootstrap.min.css set `[hidden] { display: none !important; }` so we also need the `!important` here to be able to override the default hidden behavior on the sphinx rendered scikit-learn.org. See: https://github.com/scikit-learn/scikit-learn/issues/21755 */display: inline-block !important;position: relative;}#sk-container-id-1 div.sk-text-repr-fallback {display: none;}</style><div id=\"sk-container-id-1\" class=\"sk-top-container\"><div class=\"sk-text-repr-fallback\"><pre>XGBClassifier(base_score=None, booster=None, callbacks=None,\n",
              "              colsample_bylevel=None, colsample_bynode=None,\n",
              "              colsample_bytree=None, device=None, early_stopping_rounds=None,\n",
              "              enable_categorical=False, eval_metric=None, feature_types=None,\n",
              "              gamma=None, grow_policy=None, importance_type=None,\n",
              "              interaction_constraints=None, learning_rate=None, max_bin=None,\n",
              "              max_cat_threshold=None, max_cat_to_onehot=None,\n",
              "              max_delta_step=None, max_depth=3, max_leaves=None,\n",
              "              min_child_weight=None, missing=nan, monotone_constraints=None,\n",
              "              multi_strategy=None, n_estimators=100, n_jobs=None,\n",
              "              num_parallel_tree=None, random_state=42, ...)</pre><b>In a Jupyter environment, please rerun this cell to show the HTML representation or trust the notebook. <br />On GitHub, the HTML representation is unable to render, please try loading this page with nbviewer.org.</b></div><div class=\"sk-container\" hidden><div class=\"sk-item\"><div class=\"sk-estimator sk-toggleable\"><input class=\"sk-toggleable__control sk-hidden--visually\" id=\"sk-estimator-id-1\" type=\"checkbox\" checked><label for=\"sk-estimator-id-1\" class=\"sk-toggleable__label sk-toggleable__label-arrow\">XGBClassifier</label><div class=\"sk-toggleable__content\"><pre>XGBClassifier(base_score=None, booster=None, callbacks=None,\n",
              "              colsample_bylevel=None, colsample_bynode=None,\n",
              "              colsample_bytree=None, device=None, early_stopping_rounds=None,\n",
              "              enable_categorical=False, eval_metric=None, feature_types=None,\n",
              "              gamma=None, grow_policy=None, importance_type=None,\n",
              "              interaction_constraints=None, learning_rate=None, max_bin=None,\n",
              "              max_cat_threshold=None, max_cat_to_onehot=None,\n",
              "              max_delta_step=None, max_depth=3, max_leaves=None,\n",
              "              min_child_weight=None, missing=nan, monotone_constraints=None,\n",
              "              multi_strategy=None, n_estimators=100, n_jobs=None,\n",
              "              num_parallel_tree=None, random_state=42, ...)</pre></div></div></div></div></div>"
            ]
          },
          "metadata": {},
          "execution_count": 26
        }
      ]
    },
    {
      "cell_type": "code",
      "source": [
        "# Make predictions\n",
        "model1_preds = model1.predict(test[features])\n",
        "\n",
        "# Convert numpy array to pandas series\n",
        "model1_preds = pd.Series(model1_preds, index=test.index)"
      ],
      "metadata": {
        "id": "Dl1PtN41-54H"
      },
      "execution_count": null,
      "outputs": []
    },
    {
      "cell_type": "code",
      "source": [
        "#model1_preds"
      ],
      "metadata": {
        "id": "dV4VaGNI_CQi"
      },
      "execution_count": null,
      "outputs": []
    },
    {
      "cell_type": "code",
      "source": [
        "# Evaluate the model\n",
        "from sklearn.metrics import precision_score\n",
        "precision_score(test['Target'], model1_preds)"
      ],
      "metadata": {
        "colab": {
          "base_uri": "https://localhost:8080/"
        },
        "id": "X5nP_WfF-Vqk",
        "outputId": "d3e55812-54d2-4fee-db4e-cc604ad3a4fb"
      },
      "execution_count": null,
      "outputs": [
        {
          "output_type": "execute_result",
          "data": {
            "text/plain": [
              "0.5"
            ]
          },
          "metadata": {},
          "execution_count": 33
        }
      ]
    },
    {
      "cell_type": "code",
      "source": [
        "# Plot test['Target'] vs model1_preds\n",
        "plt.plot(test['Target'], label='Actual')\n",
        "plt.plot(model1_preds, label='Predicted')\n",
        "plt.legend()\n",
        "plt.show()"
      ],
      "metadata": {
        "colab": {
          "base_uri": "https://localhost:8080/",
          "height": 430
        },
        "id": "LgqgXRId_1eN",
        "outputId": "4167a027-2412-453d-81de-5ccd08e7e2ea"
      },
      "execution_count": null,
      "outputs": [
        {
          "output_type": "display_data",
          "data": {
            "text/plain": [
              "<Figure size 640x480 with 1 Axes>"
            ],
            "image/png": "[encoded data removed]"
          },
          "metadata": {}
        }
      ]
    },
    {
      "cell_type": "markdown",
      "source": [
        "## Create a backtesting function"
      ],
      "metadata": {
        "id": "CnHxlgN1BA_9"
      }
    },
    {
      "cell_type": "code",
      "source": [
        "# First create a predict function\n",
        "def predict(train, test, features, model):\n",
        "  model.fit(train[features], train['Target'])\n",
        "  model_preds = model.predict(test[features])\n",
        "  model_preds = pd.Series(model_preds, index=test.index, name='predictions')\n",
        "  combine = pd.concat([test['Target'], model_preds], axis=1)\n",
        "  return combine"
      ],
      "metadata": {
        "id": "C-AK5QkmALlM"
      },
      "execution_count": null,
      "outputs": []
    },
    {
      "cell_type": "code",
      "source": [
        "#data.head()"
      ],
      "metadata": {
        "id": "kAp-1S07B799"
      },
      "execution_count": null,
      "outputs": []
    },
    {
      "cell_type": "code",
      "source": [
        "x = data.loc['2000-01-01':'2019-12-31']\n",
        "x.shape"
      ],
      "metadata": {
        "colab": {
          "base_uri": "https://localhost:8080/"
        },
        "id": "0viW013lBucd",
        "outputId": "fc1b69e8-8cbb-44f4-ec07-83db0f6533d2"
      },
      "execution_count": null,
      "outputs": [
        {
          "output_type": "execute_result",
          "data": {
            "text/plain": [
              "(5031, 8)"
            ]
          },
          "metadata": {},
          "execution_count": 36
        }
      ]
    },
    {
      "cell_type": "code",
      "source": [
        "r = data.loc['2000-01-01':'2000-01-31']\n",
        "r.shape"
      ],
      "metadata": {
        "colab": {
          "base_uri": "https://localhost:8080/"
        },
        "id": "WYziS6ATCNFi",
        "outputId": "766c333d-465d-481b-b916-ffecd8a1eed2"
      },
      "execution_count": null,
      "outputs": [
        {
          "output_type": "execute_result",
          "data": {
            "text/plain": [
              "(20, 8)"
            ]
          },
          "metadata": {},
          "execution_count": 39
        }
      ]
    },
    {
      "cell_type": "code",
      "source": [
        "# Create a backtest function\n",
        "def backtest(data, model, features, start=5031, step=120):\n",
        "  all_predictions = []\n",
        "\n",
        "  for i in range(start, data.shape[0], step):\n",
        "    train = data.iloc[:i].copy()\n",
        "    test = data.iloc[i:(i+step)].copy()\n",
        "    model_preds = predict(train, test, features, model)\n",
        "    all_predictions.append(model_preds)\n",
        "\n",
        "  return pd.concat(all_predictions)\n"
      ],
      "metadata": {
        "id": "eTWtsd6jBiaF"
      },
      "execution_count": null,
      "outputs": []
    },
    {
      "cell_type": "code",
      "source": [
        "# backtest\n",
        "predictions = backtest(data, model1, features)"
      ],
      "metadata": {
        "id": "vZ8yCHmyBtwE"
      },
      "execution_count": null,
      "outputs": []
    },
    {
      "cell_type": "code",
      "source": [
        "predictions"
      ],
      "metadata": {
        "colab": {
          "base_uri": "https://localhost:8080/",
          "height": 450
        },
        "id": "shBsc25dC7v6",
        "outputId": "eb594df6-b998-463d-b643-a161202cdfa3"
      },
      "execution_count": null,
      "outputs": [
        {
          "output_type": "execute_result",
          "data": {
            "text/plain": [
              "            Target  predictions\n",
              "Date                           \n",
              "2020-01-02       0            1\n",
              "2020-01-03       1            1\n",
              "2020-01-06       0            1\n",
              "2020-01-07       1            1\n",
              "2020-01-08       1            1\n",
              "...            ...          ...\n",
              "2022-05-23       0            1\n",
              "2022-05-24       1            0\n",
              "2022-05-25       1            1\n",
              "2022-05-26       1            1\n",
              "2022-05-27       0            1\n",
              "\n",
              "[607 rows x 2 columns]"
            ],
            "text/html": [
              "\n",
              "  <div id=\"df-3db787fe-7986-4b01-9919-e66c3f9067a7\" class=\"colab-df-container\">\n",
              "    <div>\n",
              "<style scoped>\n",
              "    .dataframe tbody tr th:only-of-type {\n",
              "        vertical-align: middle;\n",
              "    }\n",
              "\n",
              "    .dataframe tbody tr th {\n",
              "        vertical-align: top;\n",
              "    }\n",
              "\n",
              "    .dataframe thead th {\n",
              "        text-align: right;\n",
              "    }\n",
              "</style>\n",
              "<table border=\"1\" class=\"dataframe\">\n",
              "  <thead>\n",
              "    <tr style=\"text-align: right;\">\n",
              "      <th></th>\n",
              "      <th>Target</th>\n",
              "      <th>predictions</th>\n",
              "    </tr>\n",
              "    <tr>\n",
              "      <th>Date</th>\n",
              "      <th></th>\n",
              "      <th></th>\n",
              "    </tr>\n",
              "  </thead>\n",
              "  <tbody>\n",
              "    <tr>\n",
              "      <th>2020-01-02</th>\n",
              "      <td>0</td>\n",
              "      <td>1</td>\n",
              "    </tr>\n",
              "    <tr>\n",
              "      <th>2020-01-03</th>\n",
              "      <td>1</td>\n",
              "      <td>1</td>\n",
              "    </tr>\n",
              "    <tr>\n",
              "      <th>2020-01-06</th>\n",
              "      <td>0</td>\n",
              "      <td>1</td>\n",
              "    </tr>\n",
              "    <tr>\n",
              "      <th>2020-01-07</th>\n",
              "      <td>1</td>\n",
              "      <td>1</td>\n",
              "    </tr>\n",
              "    <tr>\n",
              "      <th>2020-01-08</th>\n",
              "      <td>1</td>\n",
              "      <td>1</td>\n",
              "    </tr>\n",
              "    <tr>\n",
              "      <th>...</th>\n",
              "      <td>...</td>\n",
              "      <td>...</td>\n",
              "    </tr>\n",
              "    <tr>\n",
              "      <th>2022-05-23</th>\n",
              "      <td>0</td>\n",
              "      <td>1</td>\n",
              "    </tr>\n",
              "    <tr>\n",
              "      <th>2022-05-24</th>\n",
              "      <td>1</td>\n",
              "      <td>0</td>\n",
              "    </tr>\n",
              "    <tr>\n",
              "      <th>2022-05-25</th>\n",
              "      <td>1</td>\n",
              "      <td>1</td>\n",
              "    </tr>\n",
              "    <tr>\n",
              "      <th>2022-05-26</th>\n",
              "      <td>1</td>\n",
              "      <td>1</td>\n",
              "    </tr>\n",
              "    <tr>\n",
              "      <th>2022-05-27</th>\n",
              "      <td>0</td>\n",
              "      <td>1</td>\n",
              "    </tr>\n",
              "  </tbody>\n",
              "</table>\n",
              "<p>607 rows × 2 columns</p>\n",
              "</div>\n",
              "    <div class=\"colab-df-buttons\">\n",
              "\n",
              "  <div class=\"colab-df-container\">\n",
              "    <button class=\"colab-df-convert\" onclick=\"convertToInteractive('df-3db787fe-7986-4b01-9919-e66c3f9067a7')\"\n",
              "            title=\"Convert this dataframe to an interactive table.\"\n",
              "            style=\"display:none;\">\n",
              "\n",
              "  <svg xmlns=\"http://www.w3.org/2000/svg\" height=\"24px\" viewBox=\"0 -960 960 960\">\n",
              "    <path d=\"M120-120v-720h720v720H120Zm60-500h600v-160H180v160Zm220 220h160v-160H400v160Zm0 220h160v-160H400v160ZM180-400h160v-160H180v160Zm440 0h160v-160H620v160ZM180-180h160v-160H180v160Zm440 0h160v-160H620v160Z\"/>\n",
              "  </svg>\n",
              "    </button>\n",
              "\n",
              "  <style>\n",
              "    .colab-df-container {\n",
              "      display:flex;\n",
              "      gap: 12px;\n",
              "    }\n",
              "\n",
              "    .colab-df-convert {\n",
              "      background-color: #E8F0FE;\n",
              "      border: none;\n",
              "      border-radius: 50%;\n",
              "      cursor: pointer;\n",
              "      display: none;\n",
              "      fill: #1967D2;\n",
              "      height: 32px;\n",
              "      padding: 0 0 0 0;\n",
              "      width: 32px;\n",
              "    }\n",
              "\n",
              "    .colab-df-convert:hover {\n",
              "      background-color: #E2EBFA;\n",
              "      box-shadow: 0px 1px 2px rgba(60, 64, 67, 0.3), 0px 1px 3px 1px rgba(60, 64, 67, 0.15);\n",
              "      fill: #174EA6;\n",
              "    }\n",
              "\n",
              "    .colab-df-buttons div {\n",
              "      margin-bottom: 4px;\n",
              "    }\n",
              "\n",
              "    [theme=dark] .colab-df-convert {\n",
              "      background-color: #3B4455;\n",
              "      fill: #D2E3FC;\n",
              "    }\n",
              "\n",
              "    [theme=dark] .colab-df-convert:hover {\n",
              "      background-color: #434B5C;\n",
              "      box-shadow: 0px 1px 3px 1px rgba(0, 0, 0, 0.15);\n",
              "      filter: drop-shadow(0px 1px 2px rgba(0, 0, 0, 0.3));\n",
              "      fill: #FFFFFF;\n",
              "    }\n",
              "  </style>\n",
              "\n",
              "    <script>\n",
              "      const buttonEl =\n",
              "        document.querySelector('#df-3db787fe-7986-4b01-9919-e66c3f9067a7 button.colab-df-convert');\n",
              "      buttonEl.style.display =\n",
              "        google.colab.kernel.accessAllowed ? 'block' : 'none';\n",
              "\n",
              "      async function convertToInteractive(key) {\n",
              "        const element = document.querySelector('#df-3db787fe-7986-4b01-9919-e66c3f9067a7');\n",
              "        const dataTable =\n",
              "          await google.colab.kernel.invokeFunction('convertToInteractive',\n",
              "                                                    [key], {});\n",
              "        if (!dataTable) return;\n",
              "\n",
              "        const docLinkHtml = 'Like what you see? Visit the ' +\n",
              "          '<a target=\"_blank\" href=https://colab.research.google.com/notebooks/data_table.ipynb>data table notebook</a>'\n",
              "          + ' to learn more about interactive tables.';\n",
              "        element.innerHTML = '';\n",
              "        dataTable['output_type'] = 'display_data';\n",
              "        await google.colab.output.renderOutput(dataTable, element);\n",
              "        const docLink = document.createElement('div');\n",
              "        docLink.innerHTML = docLinkHtml;\n",
              "        element.appendChild(docLink);\n",
              "      }\n",
              "    </script>\n",
              "  </div>\n",
              "\n",
              "\n",
              "<div id=\"df-cb4803f1-4b7e-488e-b40e-1b26885f4ca3\">\n",
              "  <button class=\"colab-df-quickchart\" onclick=\"quickchart('df-cb4803f1-4b7e-488e-b40e-1b26885f4ca3')\"\n",
              "            title=\"Suggest charts\"\n",
              "            style=\"display:none;\">\n",
              "\n",
              "<svg xmlns=\"http://www.w3.org/2000/svg\" height=\"24px\"viewBox=\"0 0 24 24\"\n",
              "     width=\"24px\">\n",
              "    <g>\n",
              "        <path d=\"M19 3H5c-1.1 0-2 .9-2 2v14c0 1.1.9 2 2 2h14c1.1 0 2-.9 2-2V5c0-1.1-.9-2-2-2zM9 17H7v-7h2v7zm4 0h-2V7h2v10zm4 0h-2v-4h2v4z\"/>\n",
              "    </g>\n",
              "</svg>\n",
              "  </button>\n",
              "\n",
              "<style>\n",
              "  .colab-df-quickchart {\n",
              "      --bg-color: #E8F0FE;\n",
              "      --fill-color: #1967D2;\n",
              "      --hover-bg-color: #E2EBFA;\n",
              "      --hover-fill-color: #174EA6;\n",
              "      --disabled-fill-color: #AAA;\n",
              "      --disabled-bg-color: #DDD;\n",
              "  }\n",
              "\n",
              "  [theme=dark] .colab-df-quickchart {\n",
              "      --bg-color: #3B4455;\n",
              "      --fill-color: #D2E3FC;\n",
              "      --hover-bg-color: #434B5C;\n",
              "      --hover-fill-color: #FFFFFF;\n",
              "      --disabled-bg-color: #3B4455;\n",
              "      --disabled-fill-color: #666;\n",
              "  }\n",
              "\n",
              "  .colab-df-quickchart {\n",
              "    background-color: var(--bg-color);\n",
              "    border: none;\n",
              "    border-radius: 50%;\n",
              "    cursor: pointer;\n",
              "    display: none;\n",
              "    fill: var(--fill-color);\n",
              "    height: 32px;\n",
              "    padding: 0;\n",
              "    width: 32px;\n",
              "  }\n",
              "\n",
              "  .colab-df-quickchart:hover {\n",
              "    background-color: var(--hover-bg-color);\n",
              "    box-shadow: 0 1px 2px rgba(60, 64, 67, 0.3), 0 1px 3px 1px rgba(60, 64, 67, 0.15);\n",
              "    fill: var(--button-hover-fill-color);\n",
              "  }\n",
              "\n",
              "  .colab-df-quickchart-complete:disabled,\n",
              "  .colab-df-quickchart-complete:disabled:hover {\n",
              "    background-color: var(--disabled-bg-color);\n",
              "    fill: var(--disabled-fill-color);\n",
              "    box-shadow: none;\n",
              "  }\n",
              "\n",
              "  .colab-df-spinner {\n",
              "    border: 2px solid var(--fill-color);\n",
              "    border-color: transparent;\n",
              "    border-bottom-color: var(--fill-color);\n",
              "    animation:\n",
              "      spin 1s steps(1) infinite;\n",
              "  }\n",
              "\n",
              "  @keyframes spin {\n",
              "    0% {\n",
              "      border-color: transparent;\n",
              "      border-bottom-color: var(--fill-color);\n",
              "      border-left-color: var(--fill-color);\n",
              "    }\n",
              "    20% {\n",
              "      border-color: transparent;\n",
              "      border-left-color: var(--fill-color);\n",
              "      border-top-color: var(--fill-color);\n",
              "    }\n",
              "    30% {\n",
              "      border-color: transparent;\n",
              "      border-left-color: var(--fill-color);\n",
              "      border-top-color: var(--fill-color);\n",
              "      border-right-color: var(--fill-color);\n",
              "    }\n",
              "    40% {\n",
              "      border-color: transparent;\n",
              "      border-right-color: var(--fill-color);\n",
              "      border-top-color: var(--fill-color);\n",
              "    }\n",
              "    60% {\n",
              "      border-color: transparent;\n",
              "      border-right-color: var(--fill-color);\n",
              "    }\n",
              "    80% {\n",
              "      border-color: transparent;\n",
              "      border-right-color: var(--fill-color);\n",
              "      border-bottom-color: var(--fill-color);\n",
              "    }\n",
              "    90% {\n",
              "      border-color: transparent;\n",
              "      border-bottom-color: var(--fill-color);\n",
              "    }\n",
              "  }\n",
              "</style>\n",
              "\n",
              "  <script>\n",
              "    async function quickchart(key) {\n",
              "      const quickchartButtonEl =\n",
              "        document.querySelector('#' + key + ' button');\n",
              "      quickchartButtonEl.disabled = true;  // To prevent multiple clicks.\n",
              "      quickchartButtonEl.classList.add('colab-df-spinner');\n",
              "      try {\n",
              "        const charts = await google.colab.kernel.invokeFunction(\n",
              "            'suggestCharts', [key], {});\n",
              "      } catch (error) {\n",
              "        console.error('Error during call to suggestCharts:', error);\n",
              "      }\n",
              "      quickchartButtonEl.classList.remove('colab-df-spinner');\n",
              "      quickchartButtonEl.classList.add('colab-df-quickchart-complete');\n",
              "    }\n",
              "    (() => {\n",
              "      let quickchartButtonEl =\n",
              "        document.querySelector('#df-cb4803f1-4b7e-488e-b40e-1b26885f4ca3 button');\n",
              "      quickchartButtonEl.style.display =\n",
              "        google.colab.kernel.accessAllowed ? 'block' : 'none';\n",
              "    })();\n",
              "  </script>\n",
              "</div>\n",
              "\n",
              "  <div id=\"id_cf085cda-2a75-4e88-9f7f-544405e1584d\">\n",
              "    <style>\n",
              "      .colab-df-generate {\n",
              "        background-color: #E8F0FE;\n",
              "        border: none;\n",
              "        border-radius: 50%;\n",
              "        cursor: pointer;\n",
              "        display: none;\n",
              "        fill: #1967D2;\n",
              "        height: 32px;\n",
              "        padding: 0 0 0 0;\n",
              "        width: 32px;\n",
              "      }\n",
              "\n",
              "      .colab-df-generate:hover {\n",
              "        background-color: #E2EBFA;\n",
              "        box-shadow: 0px 1px 2px rgba(60, 64, 67, 0.3), 0px 1px 3px 1px rgba(60, 64, 67, 0.15);\n",
              "        fill: #174EA6;\n",
              "      }\n",
              "\n",
              "      [theme=dark] .colab-df-generate {\n",
              "        background-color: #3B4455;\n",
              "        fill: #D2E3FC;\n",
              "      }\n",
              "\n",
              "      [theme=dark] .colab-df-generate:hover {\n",
              "        background-color: #434B5C;\n",
              "        box-shadow: 0px 1px 3px 1px rgba(0, 0, 0, 0.15);\n",
              "        filter: drop-shadow(0px 1px 2px rgba(0, 0, 0, 0.3));\n",
              "        fill: #FFFFFF;\n",
              "      }\n",
              "    </style>\n",
              "    <button class=\"colab-df-generate\" onclick=\"generateWithVariable('predictions')\"\n",
              "            title=\"Generate code using this dataframe.\"\n",
              "            style=\"display:none;\">\n",
              "\n",
              "  <svg xmlns=\"http://www.w3.org/2000/svg\" height=\"24px\"viewBox=\"0 0 24 24\"\n",
              "       width=\"24px\">\n",
              "    <path d=\"M7,19H8.4L18.45,9,17,7.55,7,17.6ZM5,21V16.75L18.45,3.32a2,2,0,0,1,2.83,0l1.4,1.43a1.91,1.91,0,0,1,.58,1.4,1.91,1.91,0,0,1-.58,1.4L9.25,21ZM18.45,9,17,7.55Zm-12,3A5.31,5.31,0,0,0,4.9,8.1,5.31,5.31,0,0,0,1,6.5,5.31,5.31,0,0,0,4.9,4.9,5.31,5.31,0,0,0,6.5,1,5.31,5.31,0,0,0,8.1,4.9,5.31,5.31,0,0,0,12,6.5,5.46,5.46,0,0,0,6.5,12Z\"/>\n",
              "  </svg>\n",
              "    </button>\n",
              "    <script>\n",
              "      (() => {\n",
              "      const buttonEl =\n",
              "        document.querySelector('#id_cf085cda-2a75-4e88-9f7f-544405e1584d button.colab-df-generate');\n",
              "      buttonEl.style.display =\n",
              "        google.colab.kernel.accessAllowed ? 'block' : 'none';\n",
              "\n",
              "      buttonEl.onclick = () => {\n",
              "        google.colab.notebook.generateWithVariable('predictions');\n",
              "      }\n",
              "      })();\n",
              "    </script>\n",
              "  </div>\n",
              "\n",
              "    </div>\n",
              "  </div>\n"
            ],
            "application/vnd.google.colaboratory.intrinsic+json": {
              "type": "dataframe",
              "variable_name": "predictions",
              "summary": "{\n  \"name\": \"predictions\",\n  \"rows\": 607,\n  \"fields\": [\n    {\n      \"column\": \"Date\",\n      \"properties\": {\n        \"dtype\": \"date\",\n        \"min\": \"2020-01-02 00:00:00\",\n        \"max\": \"2022-05-27 00:00:00\",\n        \"num_unique_values\": 607,\n        \"samples\": [\n          \"2022-03-28 00:00:00\",\n          \"2021-02-25 00:00:00\",\n          \"2020-04-22 00:00:00\"\n        ],\n        \"semantic_type\": \"\",\n        \"description\": \"\"\n      }\n    },\n    {\n      \"column\": \"Target\",\n      \"properties\": {\n        \"dtype\": \"number\",\n        \"std\": 0,\n        \"min\": 0,\n        \"max\": 1,\n        \"num_unique_values\": 2,\n        \"samples\": [\n          1,\n          0\n        ],\n        \"semantic_type\": \"\",\n        \"description\": \"\"\n      }\n    },\n    {\n      \"column\": \"predictions\",\n      \"properties\": {\n        \"dtype\": \"number\",\n        \"std\": 0,\n        \"min\": 0,\n        \"max\": 1,\n        \"num_unique_values\": 2,\n        \"samples\": [\n          0,\n          1\n        ],\n        \"semantic_type\": \"\",\n        \"description\": \"\"\n      }\n    }\n  ]\n}"
            }
          },
          "metadata": {},
          "execution_count": 59
        }
      ]
    },
    {
      "cell_type": "code",
      "source": [
        "#Evaluate the model\n",
        "precision_score(predictions['Target'], predictions['predictions'])"
      ],
      "metadata": {
        "colab": {
          "base_uri": "https://localhost:8080/"
        },
        "id": "XQGgVP97Cjtt",
        "outputId": "0fbf72da-44a6-432b-9574-b9c40d9b9d59"
      },
      "execution_count": null,
      "outputs": [
        {
          "output_type": "execute_result",
          "data": {
            "text/plain": [
              "0.5081967213114754"
            ]
          },
          "metadata": {},
          "execution_count": 60
        }
      ]
    },
    {
      "cell_type": "markdown",
      "source": [
        "In this example, we demonstrated the basic application of ARIMA and XGBoost models for stock price prediction using the APPL stock dataset with open, close, and volume features.\n",
        "\n",
        "While our initial results may not have achieved high accuracy, this is not unexpected. Stock market predictions are notoriously challenging, and our simple model is just a starting point.\n",
        "\n",
        "To improve the accuracy of our predictions, incorporate additional relevant features, such as technical indicators (e.g., moving averages, RSI), sentiment analysis, or economic indicators (e.g., GDP, inflation rate), relevant stock data."
      ],
      "metadata": {
        "id": "3Yvn9AaL5Vd8"
      }
    },
    {
      "cell_type": "code",
      "source": [],
      "metadata": {
        "id": "eHExYKhiC4wn"
      },
      "execution_count": null,
      "outputs": []
    }
  ],
  "metadata": {
    "colab": {
      "collapsed_sections": [
        "V36FfX8PfPlY",
        "4aqogGMRV2ye",
        "1upntVuMe1Pn",
        "Zxw8cH3GV2yi",
        "UjhgfYfEV2yk",
        "GM7yOOApiQBh",
        "AQtgfIYdg15i"
      ],
      "provenance": []
    },
    "kernelspec": {
      "display_name": "Python 3 (ipykernel)",
      "language": "python",
      "name": "python3"
    },
    "language_info": {
      "codemirror_mode": {
        "name": "ipython",
        "version": 3
      },
      "file_extension": ".py",
      "mimetype": "text/x-python",
      "name": "python",
      "nbconvert_exporter": "python",
      "pygments_lexer": "ipython3",
      "version": "3.11.5"
    }
  },
  "nbformat": 4,
  "nbformat_minor": 0
}